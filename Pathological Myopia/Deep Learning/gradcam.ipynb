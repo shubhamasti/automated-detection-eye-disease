{
 "cells": [
  {
   "cell_type": "markdown",
   "metadata": {},
   "source": [
    "## GradCam & GradCam++ on TL models"
   ]
  },
  {
   "cell_type": "code",
   "execution_count": null,
   "metadata": {},
   "outputs": [],
   "source": [
    "import os\n",
    "from tqdm import tqdm\n",
    "\n",
    "import numpy as np\n",
    "import pandas as pd\n",
    "import matplotlib.pyplot as plt\n",
    "from matplotlib import cm"
   ]
  },
  {
   "cell_type": "code",
   "execution_count": null,
   "metadata": {},
   "outputs": [],
   "source": [
    "from keras import backend as K\n",
    "import tensorflow as tf\n",
    "\n",
    "from keras.utils import load_img, img_to_array\n",
    "from keras.applications.resnet import preprocess_input as resnet50_preprocess_input\n",
    "from keras.applications.vgg16 import VGG16, preprocess_input as vgg16_preprocess_input\n",
    "from keras.applications.inception_v3 import InceptionV3, preprocess_input as inception_v3_preprocess_input\n",
    "\n",
    "from keras.models import Model, model_from_json\n",
    "\n",
    "from tf_keras_vis.gradcam_plus_plus import GradcamPlusPlus\n",
    "from tf_keras_vis.gradcam import Gradcam\n",
    "from tf_keras_vis.utils.model_modifiers import ReplaceToLinear\n",
    "from tf_keras_vis.utils.scores import CategoricalScore"
   ]
  },
  {
   "cell_type": "code",
   "execution_count": null,
   "metadata": {},
   "outputs": [],
   "source": [
    "K.set_image_data_format('channels_last') # set the image data format to be (batch_size, height, width, channels), typically used in tensorflow"
   ]
  },
  {
   "cell_type": "markdown",
   "metadata": {},
   "source": [
    "## Load model"
   ]
  },
  {
   "cell_type": "code",
   "execution_count": null,
   "metadata": {},
   "outputs": [],
   "source": [
    "# Load the model architecture and weights\n",
    "with open('../models_TL/ResNet50_pretrained.json', 'r') as json_file:\n",
    "    model_json = json_file.read()\n",
    "model = model_from_json(model_json)\n",
    "model.load_weights('../models_TL/ResNet50_pretrained.weights.h5')\n",
    "\n",
    "model.summary()"
   ]
  },
  {
   "cell_type": "code",
   "execution_count": null,
   "metadata": {},
   "outputs": [],
   "source": [
    "penultimate_layer = 'conv5_block3_out'"
   ]
  },
  {
   "cell_type": "code",
   "execution_count": null,
   "metadata": {},
   "outputs": [],
   "source": [
    "# Preprocess your input image\n",
    "def preprocess_image(image_path):\n",
    "    img = load_img(image_path, target_size=(224, 224))\n",
    "    img_array = img_to_array(img) / 255.0\n",
    "    img_array = np.expand_dims(img_array, axis=0)\n",
    "    img_array = inception_v3_preprocess_input(img_array)\n",
    "    return img_array\n",
    "\n",
    "# Load data\n",
    "def load_data(path, num):\n",
    "    image_dir = os.path.join(path, \"Images\")\n",
    "    label_df = pd.read_excel(os.path.join(path, \"Labels.xlsx\"))\n",
    "    \n",
    "    positive = label_df[label_df['Label'] == 1][:num]\n",
    "    negative = label_df[label_df['Label'] == 0][:num]\n",
    "    \n",
    "    X_pos, X_neg = [], []\n",
    "    path_pos, path_neg = [], []\n",
    "\n",
    "    for idx, row in tqdm(positive.iterrows()):\n",
    "        img_name = row['imgName']\n",
    "        img_array = preprocess_image(os.path.join(image_dir, img_name))\n",
    "        X_pos.append(img_array)\n",
    "        path_pos.append(img_name)\n",
    "        \n",
    "    for idx, row in tqdm(negative.iterrows()):\n",
    "        img_name = row['imgName']\n",
    "        img_array = preprocess_image(os.path.join(image_dir, img_name))\n",
    "        X_neg.append(img_array)\n",
    "        path_neg.append(img_name)\n",
    "        \n",
    "    return np.array(X_pos), np.array(X_neg), path_pos, path_neg"
   ]
  },
  {
   "cell_type": "code",
   "execution_count": null,
   "metadata": {},
   "outputs": [],
   "source": [
    "# Input path\n",
    "input_path = 'path/to/images'\n",
    "positive, negative, path_pos, path_neg = load_data(input_path, 10)"
   ]
  },
  {
   "cell_type": "code",
   "execution_count": null,
   "metadata": {},
   "outputs": [],
   "source": [
    "# GradCam\n",
    "def save_heatmap(heatmap, image_path, output_path, alpha=0.4):\n",
    "    # Load original image (without preprocessing)\n",
    "    original_img = load_img(image_path, target_size=(224, 224))\n",
    "    original_img = img_to_array(original_img) / 255.0  # Normalize for plotting\n",
    "    \n",
    "    # Resize heatmap to match image size\n",
    "    heatmap = np.uint8(255 * heatmap)\n",
    "    \n",
    "    # first clear the plot\n",
    "    plt.clf()\n",
    "    \n",
    "    # # Display the original image\n",
    "    plt.imshow(original_img)\n",
    "    plt.imshow(heatmap, cmap='jet', alpha=alpha)  # Overlay the heatmap with some transparency\n",
    "    plt.colorbar()  # Show color bar for the heatmap\n",
    "    plt.axis('off')\n",
    "    \n",
    "    # Save the image\n",
    "    plt.savefig(output_path, bbox_inches='tight', pad_inches=0)\n",
    "\n",
    "def generate_heatmap_image(image_path, output_path, gradcam, score, img_array, penultimate_layer):\n",
    "    heatmap = gradcam(score, img_array, penultimate_layer=penultimate_layer)\n",
    "    # Heatmap shape is (1, 224, 224), squeeze it to remove the batch dimension\n",
    "    heatmap = np.squeeze(heatmap)\n",
    "    # Plot the result\n",
    "    save_heatmap(heatmap, image_path, output_path)\n",
    "\n",
    "def heatmaps(paths, samples, gradcam, score, penultimate_layer, outputs):\n",
    "    images = 'path/to/images'\n",
    "\n",
    "    for path, sample in tqdm(zip(paths, samples)):\n",
    "        image_path = os.path.join(images, path)\n",
    "        output_path = os.path.join(outputs, path)\n",
    "        \n",
    "        generate_heatmap_image(image_path, output_path, gradcam, score, sample, penultimate_layer)"
   ]
  },
  {
   "cell_type": "markdown",
   "metadata": {},
   "source": [
    "## Gradcam"
   ]
  },
  {
   "cell_type": "markdown",
   "metadata": {},
   "source": [
    "#### Negative"
   ]
  },
  {
   "cell_type": "code",
   "execution_count": null,
   "metadata": {},
   "outputs": [],
   "source": [
    "outputs = \"path/to/outputs\"\n",
    "\n",
    "score = CategoricalScore([0])  # Choose class 1, you can also use CategoricalScore([0]) for class 0\n",
    "\n",
    "# Create the Gradcam object\n",
    "gradcam = Gradcam(model, clone=False)\n",
    "\n",
    "heatmaps(path_neg, negative, gradcam, score, penultimate_layer, outputs)"
   ]
  },
  {
   "cell_type": "markdown",
   "metadata": {},
   "source": [
    "#### Positive"
   ]
  },
  {
   "cell_type": "code",
   "execution_count": null,
   "metadata": {},
   "outputs": [],
   "source": [
    "outputs = 'path/to/outputs'\n",
    "\n",
    "score = CategoricalScore([1])  # Choose class 1, you can also use CategoricalScore([0]) for class 0\n",
    "\n",
    "# Create the Gradcam object\n",
    "gradcam = Gradcam(model, clone=False)\n",
    "\n",
    "heatmaps(path_pos, positive, gradcam, score, penultimate_layer, outputs)"
   ]
  },
  {
   "cell_type": "markdown",
   "metadata": {},
   "source": [
    "## Gradcam++"
   ]
  },
  {
   "cell_type": "markdown",
   "metadata": {},
   "source": [
    "#### Negative"
   ]
  },
  {
   "cell_type": "code",
   "execution_count": null,
   "metadata": {},
   "outputs": [],
   "source": [
    "outputs = 'path/to/outputs'\n",
    "\n",
    "score = CategoricalScore([0])  # Choose class 1, you can also use CategoricalScore([0]) for class 0\n",
    "\n",
    "# Create the Gradcam object\n",
    "gradcam = GradcamPlusPlus(model, clone=False)\n",
    "\n",
    "heatmaps(path_neg, negative, gradcam, score, penultimate_layer, outputs)"
   ]
  },
  {
   "cell_type": "markdown",
   "metadata": {},
   "source": [
    "#### Positive"
   ]
  },
  {
   "cell_type": "code",
   "execution_count": null,
   "metadata": {},
   "outputs": [],
   "source": [
    "outputs = 'path/to/outputs'\n",
    "\n",
    "score = CategoricalScore([1])  # Choose class 1, you can also use CategoricalScore([0]) for class 0\n",
    "\n",
    "# Create the Gradcam object\n",
    "gradcam = GradcamPlusPlus(model, clone=False)\n",
    "\n",
    "heatmaps(path_pos, positive, gradcam, score, penultimate_layer, outputs)"
   ]
  }
 ],
 "metadata": {
  "kernelspec": {
   "display_name": "tensor",
   "language": "python",
   "name": "python3"
  },
  "language_info": {
   "codemirror_mode": {
    "name": "ipython",
    "version": 3
   },
   "file_extension": ".py",
   "mimetype": "text/x-python",
   "name": "python",
   "nbconvert_exporter": "python",
   "pygments_lexer": "ipython3",
   "version": "3.11.9"
  }
 },
 "nbformat": 4,
 "nbformat_minor": 2
}

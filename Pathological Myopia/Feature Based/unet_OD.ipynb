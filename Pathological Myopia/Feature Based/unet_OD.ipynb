{
 "cells": [
  {
   "cell_type": "markdown",
   "metadata": {},
   "source": [
    "## Segment Optic disc"
   ]
  },
  {
   "cell_type": "markdown",
   "metadata": {},
   "source": [
    "### UNET model"
   ]
  },
  {
   "cell_type": "code",
   "execution_count": 1,
   "metadata": {},
   "outputs": [],
   "source": [
    "import os\n",
    "import numpy as np\n",
    "\n",
    "import tensorflow as tf\n",
    "from tensorflow.keras.preprocessing.image import load_img, img_to_array\n",
    "from tensorflow.keras import layers, models\n",
    "\n",
    "from sklearn.model_selection import train_test_split"
   ]
  },
  {
   "cell_type": "code",
   "execution_count": 2,
   "metadata": {},
   "outputs": [],
   "source": [
    "def load_data(image_dir, mask_dir, image_size):\n",
    "    images = []\n",
    "    masks = []\n",
    "    \n",
    "    # Loop through all image files\n",
    "    for filename in os.listdir(image_dir):\n",
    "        if filename.endswith(\".jpg\"):\n",
    "            # Get the base name (e.g., 'H0001' from 'H0001.jpg')\n",
    "            base_name = os.path.splitext(filename)[0]\n",
    "            \n",
    "            # Construct the corresponding mask filename\n",
    "            mask_filename = f\"{base_name}.bmp\"\n",
    "            \n",
    "            # Check if the corresponding mask exists\n",
    "            img_path = os.path.join(image_dir, filename)\n",
    "            mask_path = os.path.join(mask_dir, mask_filename)\n",
    "        \n",
    "            if os.path.exists(mask_path):\n",
    "                # Load and resize the image and mask\n",
    "                img = load_img(img_path, target_size=image_size)\n",
    "                mask = load_img(mask_path, target_size=image_size, color_mode=\"grayscale\")\n",
    "                \n",
    "                # Convert to numpy arrays\n",
    "                img_array = img_to_array(img) / 255.0  # Normalize the image between 0 and 1\n",
    "                mask_array = img_to_array(mask) / 255.0  # Mask is binary\n",
    "                \n",
    "                # Append the arrays to the lists\n",
    "                images.append(img_array)\n",
    "                masks.append(mask_array)\n",
    "            else:\n",
    "                print(f\"Skipping {filename} as no corresponding mask was found.\")\n",
    "    \n",
    "    # Convert the lists to numpy arrays\n",
    "    return np.array(images), np.array(masks)"
   ]
  },
  {
   "cell_type": "code",
   "execution_count": 3,
   "metadata": {},
   "outputs": [],
   "source": [
    "def unet_model(input_size=(256, 256, 3)):\n",
    "    inputs = layers.Input(input_size)\n",
    "    \n",
    "    # Encoder\n",
    "    conv1 = layers.Conv2D(64, 3, activation='relu', padding='same')(inputs)\n",
    "    conv1 = layers.Conv2D(64, 3, activation='relu', padding='same')(conv1)\n",
    "    pool1 = layers.MaxPooling2D(pool_size=(2, 2))(conv1)\n",
    "    \n",
    "    conv2 = layers.Conv2D(128, 3, activation='relu', padding='same')(pool1)\n",
    "    conv2 = layers.Conv2D(128, 3, activation='relu', padding='same')(conv2)\n",
    "    pool2 = layers.MaxPooling2D(pool_size=(2, 2))(conv2)\n",
    "    \n",
    "    # Bottleneck\n",
    "    conv3 = layers.Conv2D(256, 3, activation='relu', padding='same')(pool2)\n",
    "    conv3 = layers.Conv2D(256, 3, activation='relu', padding='same')(conv3)\n",
    "    \n",
    "    # Decoder\n",
    "    up1 = layers.UpSampling2D(size=(2, 2))(conv3)\n",
    "    up1 = layers.concatenate([up1, conv2], axis=-1)\n",
    "    conv4 = layers.Conv2D(128, 3, activation='relu', padding='same')(up1)\n",
    "    conv4 = layers.Conv2D(128, 3, activation='relu', padding='same')(conv4)\n",
    "    \n",
    "    up2 = layers.UpSampling2D(size=(2, 2))(conv4)\n",
    "    up2 = layers.concatenate([up2, conv1], axis=-1)\n",
    "    conv5 = layers.Conv2D(64, 3, activation='relu', padding='same')(up2)\n",
    "    conv5 = layers.Conv2D(64, 3, activation='relu', padding='same')(conv5)\n",
    "    \n",
    "    outputs = layers.Conv2D(1, 1, activation='sigmoid')(conv5)  # Sigmoid for binary classification\n",
    "    \n",
    "    model = models.Model(inputs=[inputs], outputs=[outputs])\n",
    "    return model"
   ]
  },
  {
   "cell_type": "code",
   "execution_count": null,
   "metadata": {},
   "outputs": [],
   "source": [
    "model = unet_model(input_size=(256, 256, 3))\n",
    "# model.compile(optimizer='adam', loss='binary_crossentropy', metrics=['accuracy'])\n",
    "model.compile(optimizer='adam',\n",
    "              loss='binary_crossentropy', \n",
    "              metrics=['accuracy'])"
   ]
  },
  {
   "cell_type": "code",
   "execution_count": null,
   "metadata": {},
   "outputs": [],
   "source": [
    "model.summary()"
   ]
  },
  {
   "cell_type": "code",
   "execution_count": null,
   "metadata": {},
   "outputs": [],
   "source": [
    "# Directories for images and masks\n",
    "image_dir = 'path/to/images'\n",
    "mask_dir = 'path/to/optic_disc_masks'\n",
    "\n",
    "\n",
    "# Image size (height, width, channels)\n",
    "image_size = (256, 256)\n",
    "\n",
    "all_images, all_masks = load_data(image_dir, mask_dir, image_size)\n",
    "\n",
    "# Split into training and test sets (80% train, 20% test)\n",
    "train_images, test_images, train_masks, test_masks = train_test_split(\n",
    "    all_images, all_masks, test_size=0.2, random_state=42\n",
    ")\n",
    "\n",
    "# split train set into training and validation sets (90% train, 10% validation)\n",
    "train_images, val_images, train_masks, val_masks = train_test_split(\n",
    "    train_images, train_masks, test_size=0.1, random_state=42\n",
    ")"
   ]
  },
  {
   "cell_type": "code",
   "execution_count": null,
   "metadata": {},
   "outputs": [],
   "source": [
    "len(train_images), len(val_images)"
   ]
  },
  {
   "cell_type": "code",
   "execution_count": null,
   "metadata": {},
   "outputs": [],
   "source": [
    "history = model.fit(train_images, train_masks, epochs=50,\n",
    "                    batch_size=32, verbose=1, steps_per_epoch=10,\n",
    "                    validation_data=(val_images, val_masks))"
   ]
  },
  {
   "cell_type": "code",
   "execution_count": null,
   "metadata": {},
   "outputs": [],
   "source": [
    "scores = model.evaluate(val_images, val_masks)\n",
    "print(\"Validation Loss: %.2f\" % scores[0])\n",
    "print(\"Validation Accuracy: %.2f%%\" % (scores[1] * 100))"
   ]
  },
  {
   "cell_type": "code",
   "execution_count": null,
   "metadata": {},
   "outputs": [],
   "source": [
    "scores = model.evaluate(test_images, test_masks)\n",
    "print(\"Test Loss: %.2f\" % scores[0])\n",
    "print(\"Test Accuracy: %.2f%%\" % (scores[1] * 100))"
   ]
  },
  {
   "cell_type": "code",
   "execution_count": 9,
   "metadata": {},
   "outputs": [],
   "source": [
    "# Save the model\n",
    "model_json = model.to_json()\n",
    "with open('../features_segmentation/OD.json', 'w') as json_file:\n",
    "    json_file.write(model_json)\n",
    "\n",
    "# Saving the model and weights\n",
    "model.save_weights('../features_segmentation/OD.weights.h5')"
   ]
  }
 ],
 "metadata": {
  "kernelspec": {
   "display_name": "tensorflow",
   "language": "python",
   "name": "python3"
  },
  "language_info": {
   "codemirror_mode": {
    "name": "ipython",
    "version": 3
   },
   "file_extension": ".py",
   "mimetype": "text/x-python",
   "name": "python",
   "nbconvert_exporter": "python",
   "pygments_lexer": "ipython3",
   "version": "3.8.19"
  }
 },
 "nbformat": 4,
 "nbformat_minor": 2
}

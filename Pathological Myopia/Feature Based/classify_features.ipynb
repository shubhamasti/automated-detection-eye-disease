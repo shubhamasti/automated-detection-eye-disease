{
 "cells": [
  {
   "cell_type": "markdown",
   "metadata": {},
   "source": [
    "# Identify PM using features"
   ]
  },
  {
   "cell_type": "code",
   "execution_count": 1,
   "metadata": {},
   "outputs": [],
   "source": [
    "import os\n",
    "import pandas as pd\n",
    "import numpy as np\n",
    "import cv2\n",
    "import tensorflow as tf\n",
    "\n",
    "from sklearn.utils import shuffle, resample\n",
    "from tqdm import tqdm\n",
    "from sklearn.model_selection import train_test_split\n",
    "\n",
    "from tensorflow.keras.preprocessing.image import load_img, img_to_array\n",
    "from keras.models import model_from_json, Model"
   ]
  },
  {
   "cell_type": "code",
   "execution_count": 2,
   "metadata": {},
   "outputs": [],
   "source": [
    "# Load the CSV file\n",
    "df = pd.read_excel(r'../../Datasets/PALM/All/Labels.xlsx')\n",
    "\n",
    "# Define constants\n",
    "IMAGE_SIZE = (256, 256)  # Example size, adjust to your models\n",
    "NUM_CLASSES = 2"
   ]
  },
  {
   "cell_type": "code",
   "execution_count": 3,
   "metadata": {},
   "outputs": [
    {
     "name": "stdout",
     "output_type": "stream",
     "text": [
      "Metal device set to: Apple M2 Pro\n",
      "\n",
      "systemMemory: 16.00 GB\n",
      "maxCacheSize: 5.33 GB\n",
      "\n"
     ]
    },
    {
     "name": "stderr",
     "output_type": "stream",
     "text": [
      "2024-12-14 11:56:55.792642: I tensorflow/core/common_runtime/pluggable_device/pluggable_device_factory.cc:305] Could not identify NUMA node of platform GPU ID 0, defaulting to 0. Your kernel may not have been built with NUMA support.\n",
      "2024-12-14 11:56:55.792850: I tensorflow/core/common_runtime/pluggable_device/pluggable_device_factory.cc:271] Created TensorFlow device (/job:localhost/replica:0/task:0/device:GPU:0 with 0 MB memory) -> physical PluggableDevice (device: 0, name: METAL, pci bus id: <undefined>)\n"
     ]
    }
   ],
   "source": [
    "# OD\n",
    "with open(r'../features_segmentation/OD.json', 'r') as json_file:\n",
    "    model_json = json_file.read()\n",
    "model_OD = model_from_json(model_json)\n",
    "model_OD.load_weights(r'../features_segmentation/OD.weights.h5')\n",
    "model_OD.compile(optimizer='adam', loss='binary_crossentropy', metrics=['accuracy'])\n",
    "\n",
    "# Atrophy\n",
    "with open(r'../features_segmentation/Atrophy.json', 'r') as json_file:\n",
    "    model_json = json_file.read()\n",
    "model_atrophy = model_from_json(model_json)\n",
    "model_atrophy.load_weights(r'../features_segmentation/Atrophy.weights.h5')\n",
    "model_atrophy.compile(optimizer='adam', loss='binary_crossentropy', metrics=['accuracy'])"
   ]
  },
  {
   "cell_type": "code",
   "execution_count": 4,
   "metadata": {},
   "outputs": [],
   "source": [
    "# Define function to preprocess images\n",
    "def preprocess_image(image_path):\n",
    "    img = load_img(image_path, target_size=IMAGE_SIZE)\n",
    "    img = img_to_array(img)\n",
    "    img = img / 255.0\n",
    "    return img\n",
    "\n",
    "def generate_feature_map_OD(image_path):\n",
    "    # Apply the specific preprocessing method for each model\n",
    "    img = preprocess_image(image_path)\n",
    "    img = np.expand_dims(img, axis=0)\n",
    "    \n",
    "    mask1 = model_OD.predict(img, verbose=False)  # Predict mask\n",
    "    mask1 = (mask1 > 0.1).astype(int)  # Convert to binary\n",
    "\n",
    "    combined = np.transpose(combined, (1, 2, 0, 3))\n",
    "    combined = np.squeeze(combined)\n",
    "    \n",
    "    return combined\n",
    "\n",
    "def generate_feature_map_ODA(image_path):\n",
    "    # Apply the specific preprocessing method for each model\n",
    "    img = preprocess_image(image_path)\n",
    "    img = np.expand_dims(img, axis=0)\n",
    "    \n",
    "    mask1 = model_OD.predict(img, verbose=False)  # Predict mask\n",
    "    mask1 = (mask1 > 0.1).astype(int)  # Convert to binary\n",
    "    \n",
    "    mask2 = model_atrophy.predict(img, verbose=False)  # Predict mask\n",
    "    mask2 = (mask2 > 0.1).astype(int)  # Convert to binary\n",
    "\n",
    "    # Combine masks into a single feature map\n",
    "    combined = np.concatenate([mask1, mask2])  # Shape: (H, W, 4)\n",
    "    combined = np.transpose(combined, (1, 2, 0, 3))\n",
    "    combined = np.squeeze(combined)\n",
    "    \n",
    "    return combined\n"
   ]
  },
  {
   "cell_type": "markdown",
   "metadata": {},
   "source": [
    "## Both OD and Atrophy"
   ]
  },
  {
   "cell_type": "code",
   "execution_count": 5,
   "metadata": {},
   "outputs": [
    {
     "name": "stderr",
     "output_type": "stream",
     "text": [
      "Processing rows:   0%|          | 0/1200 [00:00<?, ?it/s]2024-12-14 11:57:24.452314: W tensorflow/core/platform/profile_utils/cpu_utils.cc:128] Failed to get CPU frequency: 0 Hz\n",
      "2024-12-14 11:57:24.521479: I tensorflow/core/grappler/optimizers/custom_graph_optimizer_registry.cc:113] Plugin optimizer for device_type GPU is enabled.\n",
      "2024-12-14 11:57:24.820558: I tensorflow/core/grappler/optimizers/custom_graph_optimizer_registry.cc:113] Plugin optimizer for device_type GPU is enabled.\n",
      "Processing rows: 100%|██████████| 1200/1200 [02:35<00:00,  7.71it/s]\n"
     ]
    }
   ],
   "source": [
    "# Prepare dataset\n",
    "dataset_path = r'../../Datasets/PALM/All/Images'\n",
    "\n",
    "X_features = []\n",
    "y_labels = []\n",
    "\n",
    "for index, row in tqdm(df.iterrows(), total=len(df), desc=\"Processing rows\"):\n",
    "    image_path = row['imgName']\n",
    "    label = row['Label']\n",
    "    \n",
    "    image_path = os.path.join(dataset_path, image_path)\n",
    "    \n",
    "    # change function to generate_feature_map_OD if only using OD\n",
    "    combined_features = generate_feature_map_ODA(image_path)\n",
    "    X_features.append(combined_features)\n",
    "    y_labels.append(label)\n",
    "\n",
    "X_features = np.array(X_features)  # Shape: (num_samples, H, W, 4)\n",
    "y_labels = tf.keras.utils.to_categorical(y_labels, NUM_CLASSES)"
   ]
  },
  {
   "cell_type": "code",
   "execution_count": 6,
   "metadata": {},
   "outputs": [
    {
     "name": "stdout",
     "output_type": "stream",
     "text": [
      "Train set: (840, 256, 256, 2), (840, 2)\n",
      "Validation set: (72, 256, 256, 2), (72, 2)\n",
      "Test set: (288, 256, 256, 2), (288, 2)\n"
     ]
    }
   ],
   "source": [
    "# Split into train, validation, and test sets\n",
    "X_train, X_temp, y_train, y_temp = train_test_split(X_features, y_labels, test_size=0.3, random_state=42)\n",
    "X_val, X_test, y_val, y_test = train_test_split(X_temp, y_temp, test_size=0.8, random_state=42)\n",
    "\n",
    "print(f\"Train set: {X_train.shape}, {y_train.shape}\")\n",
    "print(f\"Validation set: {X_val.shape}, {y_val.shape}\")\n",
    "print(f\"Test set: {X_test.shape}, {y_test.shape}\")"
   ]
  },
  {
   "cell_type": "code",
   "execution_count": 7,
   "metadata": {},
   "outputs": [
    {
     "data": {
      "text/plain": [
       "((840, 256, 256, 2), (72, 256, 256, 2), (288, 256, 256, 2))"
      ]
     },
     "execution_count": 7,
     "metadata": {},
     "output_type": "execute_result"
    }
   ],
   "source": [
    "X_train.shape, X_val.shape, X_test.shape"
   ]
  },
  {
   "cell_type": "code",
   "execution_count": 8,
   "metadata": {},
   "outputs": [
    {
     "data": {
      "text/plain": [
       "((840, 2), (72, 2), (288, 2))"
      ]
     },
     "execution_count": 8,
     "metadata": {},
     "output_type": "execute_result"
    }
   ],
   "source": [
    "y_train.shape, y_val.shape, y_test.shape"
   ]
  },
  {
   "cell_type": "code",
   "execution_count": 9,
   "metadata": {},
   "outputs": [
    {
     "name": "stdout",
     "output_type": "stream",
     "text": [
      "Model: \"sequential\"\n",
      "_________________________________________________________________\n",
      " Layer (type)                Output Shape              Param #   \n",
      "=================================================================\n",
      " conv2d (Conv2D)             (None, 254, 254, 32)      608       \n",
      "                                                                 \n",
      " max_pooling2d (MaxPooling2D  (None, 127, 127, 32)     0         \n",
      " )                                                               \n",
      "                                                                 \n",
      " conv2d_1 (Conv2D)           (None, 125, 125, 64)      18496     \n",
      "                                                                 \n",
      " max_pooling2d_1 (MaxPooling  (None, 62, 62, 64)       0         \n",
      " 2D)                                                             \n",
      "                                                                 \n",
      " conv2d_2 (Conv2D)           (None, 60, 60, 128)       73856     \n",
      "                                                                 \n",
      " global_average_pooling2d (G  (None, 128)              0         \n",
      " lobalAveragePooling2D)                                          \n",
      "                                                                 \n",
      " dense (Dense)               (None, 1024)              132096    \n",
      "                                                                 \n",
      " dropout (Dropout)           (None, 1024)              0         \n",
      "                                                                 \n",
      " dense_1 (Dense)             (None, 512)               524800    \n",
      "                                                                 \n",
      " dropout_1 (Dropout)         (None, 512)               0         \n",
      "                                                                 \n",
      " dense_2 (Dense)             (None, 256)               131328    \n",
      "                                                                 \n",
      " dropout_2 (Dropout)         (None, 256)               0         \n",
      "                                                                 \n",
      " dense_3 (Dense)             (None, 128)               32896     \n",
      "                                                                 \n",
      " dropout_3 (Dropout)         (None, 128)               0         \n",
      "                                                                 \n",
      " dense_4 (Dense)             (None, 64)                8256      \n",
      "                                                                 \n",
      " dropout_4 (Dropout)         (None, 64)                0         \n",
      "                                                                 \n",
      " dense_5 (Dense)             (None, 32)                2080      \n",
      "                                                                 \n",
      " dropout_5 (Dropout)         (None, 32)                0         \n",
      "                                                                 \n",
      " dense_6 (Dense)             (None, 16)                528       \n",
      "                                                                 \n",
      " dropout_6 (Dropout)         (None, 16)                0         \n",
      "                                                                 \n",
      " dense_7 (Dense)             (None, 2)                 34        \n",
      "                                                                 \n",
      "=================================================================\n",
      "Total params: 924,978\n",
      "Trainable params: 924,978\n",
      "Non-trainable params: 0\n",
      "_________________________________________________________________\n"
     ]
    }
   ],
   "source": [
    "classification_model = tf.keras.Sequential([\n",
    "    # First Conv2D layer\n",
    "    # Change input shape to (256, 256, 1) if using only OD\n",
    "    tf.keras.layers.Conv2D(32, (3, 3), activation='relu', input_shape=(256, 256, 2)),\n",
    "    tf.keras.layers.MaxPooling2D(pool_size=(2, 2)),  # Optional pooling layer\n",
    "\n",
    "    # Second Conv2D layer\n",
    "    tf.keras.layers.Conv2D(64, (3, 3), activation='relu'),\n",
    "    tf.keras.layers.MaxPooling2D(pool_size=(2, 2)),  # Optional pooling layer\n",
    "\n",
    "    # Third Conv2D layer\n",
    "    tf.keras.layers.Conv2D(128, (3, 3), activation='relu'),\n",
    "\n",
    "    # Global pooling to reduce to 2D tensor\n",
    "    tf.keras.layers.GlobalAveragePooling2D(),\n",
    "\n",
    "    # Fully connected layers\n",
    "    tf.keras.layers.Dense(1024, activation='relu'),\n",
    "    tf.keras.layers.Dropout(0.3),\n",
    "    tf.keras.layers.Dense(512, activation='relu'),\n",
    "    tf.keras.layers.Dropout(0.3),\n",
    "    tf.keras.layers.Dense(256, activation='relu'),\n",
    "    tf.keras.layers.Dropout(0.3),\n",
    "    tf.keras.layers.Dense(128, activation='relu'),\n",
    "    tf.keras.layers.Dropout(0.3),\n",
    "    tf.keras.layers.Dense(64, activation='relu'),\n",
    "    tf.keras.layers.Dropout(0.3),\n",
    "    tf.keras.layers.Dense(32, activation='relu'),\n",
    "    tf.keras.layers.Dropout(0.3),\n",
    "    tf.keras.layers.Dense(16, activation='relu'),\n",
    "    tf.keras.layers.Dropout(0.3),\n",
    "    tf.keras.layers.Dense(2, activation='softmax')  # Output layer with 5 classes\n",
    "])\n",
    "\n",
    "classification_model.compile(optimizer='adam', loss='categorical_crossentropy', metrics=['accuracy'])\n",
    "classification_model.summary()"
   ]
  },
  {
   "cell_type": "code",
   "execution_count": 10,
   "metadata": {},
   "outputs": [],
   "source": [
    "early_stopping = tf.keras.callbacks.EarlyStopping(\n",
    "    monitor='val_loss',  # Metric to monitor\n",
    "    patience=20,          # Number of epochs with no improvement before stopping\n",
    "    restore_best_weights=True  # Restore weights from the epoch with the best validation loss\n",
    ")"
   ]
  },
  {
   "cell_type": "code",
   "execution_count": 11,
   "metadata": {},
   "outputs": [
    {
     "name": "stdout",
     "output_type": "stream",
     "text": [
      "Epoch 1/200\n"
     ]
    },
    {
     "name": "stderr",
     "output_type": "stream",
     "text": [
      "2024-12-14 12:00:12.995783: I tensorflow/core/grappler/optimizers/custom_graph_optimizer_registry.cc:113] Plugin optimizer for device_type GPU is enabled.\n"
     ]
    },
    {
     "name": "stdout",
     "output_type": "stream",
     "text": [
      "27/27 [==============================] - ETA: 0s - loss: 0.6960 - accuracy: 0.5238"
     ]
    },
    {
     "name": "stderr",
     "output_type": "stream",
     "text": [
      "2024-12-14 12:00:17.041229: I tensorflow/core/grappler/optimizers/custom_graph_optimizer_registry.cc:113] Plugin optimizer for device_type GPU is enabled.\n"
     ]
    },
    {
     "name": "stdout",
     "output_type": "stream",
     "text": [
      "27/27 [==============================] - 5s 127ms/step - loss: 0.6960 - accuracy: 0.5238 - val_loss: 0.6947 - val_accuracy: 0.4583\n",
      "Epoch 2/200\n",
      "27/27 [==============================] - 2s 85ms/step - loss: 0.6904 - accuracy: 0.5238 - val_loss: 0.6936 - val_accuracy: 0.4583\n",
      "Epoch 3/200\n",
      "27/27 [==============================] - 2s 85ms/step - loss: 0.5538 - accuracy: 0.5595 - val_loss: 0.4814 - val_accuracy: 0.9028\n",
      "Epoch 4/200\n",
      "27/27 [==============================] - 2s 79ms/step - loss: 0.4361 - accuracy: 0.8488 - val_loss: 0.4572 - val_accuracy: 0.8889\n",
      "Epoch 5/200\n",
      "27/27 [==============================] - 2s 89ms/step - loss: 0.3614 - accuracy: 0.8798 - val_loss: 0.3559 - val_accuracy: 0.8472\n",
      "Epoch 6/200\n",
      "27/27 [==============================] - 2s 85ms/step - loss: 0.3664 - accuracy: 0.8821 - val_loss: 0.3054 - val_accuracy: 0.9028\n",
      "Epoch 7/200\n",
      "27/27 [==============================] - 2s 82ms/step - loss: 0.2995 - accuracy: 0.8929 - val_loss: 0.2833 - val_accuracy: 0.9167\n",
      "Epoch 8/200\n",
      "27/27 [==============================] - 3s 98ms/step - loss: 0.2873 - accuracy: 0.8929 - val_loss: 0.2780 - val_accuracy: 0.9028\n",
      "Epoch 9/200\n",
      "27/27 [==============================] - 2s 82ms/step - loss: 0.3415 - accuracy: 0.8643 - val_loss: 0.3651 - val_accuracy: 0.9028\n",
      "Epoch 10/200\n",
      "27/27 [==============================] - 2s 92ms/step - loss: 0.2991 - accuracy: 0.8857 - val_loss: 0.3058 - val_accuracy: 0.9028\n",
      "Epoch 11/200\n",
      "27/27 [==============================] - 2s 83ms/step - loss: 0.2851 - accuracy: 0.8964 - val_loss: 0.2851 - val_accuracy: 0.9028\n",
      "Epoch 12/200\n",
      "27/27 [==============================] - 2s 82ms/step - loss: 0.2818 - accuracy: 0.8988 - val_loss: 0.2739 - val_accuracy: 0.9028\n",
      "Epoch 13/200\n",
      "27/27 [==============================] - 2s 80ms/step - loss: 0.2691 - accuracy: 0.9000 - val_loss: 0.2431 - val_accuracy: 0.9028\n",
      "Epoch 14/200\n",
      "27/27 [==============================] - 2s 81ms/step - loss: 0.2708 - accuracy: 0.9012 - val_loss: 0.2637 - val_accuracy: 0.9167\n",
      "Epoch 15/200\n",
      "27/27 [==============================] - 2s 83ms/step - loss: 0.2648 - accuracy: 0.9012 - val_loss: 0.2822 - val_accuracy: 0.9167\n",
      "Epoch 16/200\n",
      "27/27 [==============================] - 2s 80ms/step - loss: 0.2685 - accuracy: 0.9000 - val_loss: 0.2590 - val_accuracy: 0.9167\n",
      "Epoch 17/200\n",
      "27/27 [==============================] - 2s 83ms/step - loss: 0.2547 - accuracy: 0.8976 - val_loss: 0.2634 - val_accuracy: 0.9167\n",
      "Epoch 18/200\n",
      "27/27 [==============================] - 2s 83ms/step - loss: 0.2625 - accuracy: 0.8976 - val_loss: 0.2201 - val_accuracy: 0.9167\n",
      "Epoch 19/200\n",
      "27/27 [==============================] - 2s 81ms/step - loss: 0.2513 - accuracy: 0.8988 - val_loss: 0.2026 - val_accuracy: 0.9167\n",
      "Epoch 20/200\n",
      "27/27 [==============================] - 2s 87ms/step - loss: 0.2518 - accuracy: 0.9024 - val_loss: 0.1903 - val_accuracy: 0.9306\n",
      "Epoch 21/200\n",
      "27/27 [==============================] - 3s 94ms/step - loss: 0.3268 - accuracy: 0.8726 - val_loss: 0.2783 - val_accuracy: 0.8889\n",
      "Epoch 22/200\n",
      "27/27 [==============================] - 2s 86ms/step - loss: 0.2606 - accuracy: 0.8940 - val_loss: 0.2143 - val_accuracy: 0.9167\n",
      "Epoch 23/200\n",
      "27/27 [==============================] - 3s 95ms/step - loss: 0.2494 - accuracy: 0.9000 - val_loss: 0.2262 - val_accuracy: 0.9028\n",
      "Epoch 24/200\n",
      "27/27 [==============================] - 3s 97ms/step - loss: 0.2498 - accuracy: 0.9024 - val_loss: 0.2245 - val_accuracy: 0.9167\n",
      "Epoch 25/200\n",
      "27/27 [==============================] - 2s 89ms/step - loss: 0.2443 - accuracy: 0.8964 - val_loss: 0.2230 - val_accuracy: 0.9167\n",
      "Epoch 26/200\n",
      "27/27 [==============================] - 2s 86ms/step - loss: 0.2453 - accuracy: 0.9071 - val_loss: 0.2317 - val_accuracy: 0.9444\n",
      "Epoch 27/200\n",
      "27/27 [==============================] - 2s 84ms/step - loss: 0.2552 - accuracy: 0.9000 - val_loss: 0.2184 - val_accuracy: 0.9167\n",
      "Epoch 28/200\n",
      "27/27 [==============================] - 2s 88ms/step - loss: 0.2421 - accuracy: 0.9119 - val_loss: 0.2070 - val_accuracy: 0.9444\n",
      "Epoch 29/200\n",
      "27/27 [==============================] - 3s 93ms/step - loss: 0.2481 - accuracy: 0.9048 - val_loss: 0.2084 - val_accuracy: 0.9444\n",
      "Epoch 30/200\n",
      "27/27 [==============================] - 2s 86ms/step - loss: 0.2461 - accuracy: 0.9155 - val_loss: 0.2041 - val_accuracy: 0.9444\n",
      "Epoch 31/200\n",
      "27/27 [==============================] - 2s 84ms/step - loss: 0.2455 - accuracy: 0.9107 - val_loss: 0.2216 - val_accuracy: 0.9444\n",
      "Epoch 32/200\n",
      "27/27 [==============================] - 2s 82ms/step - loss: 0.2306 - accuracy: 0.9131 - val_loss: 0.2118 - val_accuracy: 0.9306\n",
      "Epoch 33/200\n",
      "27/27 [==============================] - 2s 90ms/step - loss: 0.2565 - accuracy: 0.9060 - val_loss: 0.2073 - val_accuracy: 0.9583\n",
      "Epoch 34/200\n",
      "27/27 [==============================] - 2s 85ms/step - loss: 0.2378 - accuracy: 0.9119 - val_loss: 0.2158 - val_accuracy: 0.9444\n",
      "Epoch 35/200\n",
      "27/27 [==============================] - 2s 79ms/step - loss: 0.2311 - accuracy: 0.9107 - val_loss: 0.1806 - val_accuracy: 0.9444\n",
      "Epoch 36/200\n",
      "27/27 [==============================] - 2s 83ms/step - loss: 0.2242 - accuracy: 0.9143 - val_loss: 0.1873 - val_accuracy: 0.9583\n",
      "Epoch 37/200\n",
      "27/27 [==============================] - 2s 79ms/step - loss: 0.2421 - accuracy: 0.9131 - val_loss: 0.2214 - val_accuracy: 0.9306\n",
      "Epoch 38/200\n",
      "27/27 [==============================] - 2s 80ms/step - loss: 0.2205 - accuracy: 0.9226 - val_loss: 0.1809 - val_accuracy: 0.9306\n",
      "Epoch 39/200\n",
      "27/27 [==============================] - 2s 79ms/step - loss: 0.2206 - accuracy: 0.9131 - val_loss: 0.1995 - val_accuracy: 0.9444\n",
      "Epoch 40/200\n",
      "27/27 [==============================] - 2s 82ms/step - loss: 0.2263 - accuracy: 0.9119 - val_loss: 0.2016 - val_accuracy: 0.9306\n",
      "Epoch 41/200\n",
      "27/27 [==============================] - 2s 81ms/step - loss: 0.2505 - accuracy: 0.9107 - val_loss: 0.1984 - val_accuracy: 0.9444\n",
      "Epoch 42/200\n",
      "27/27 [==============================] - 2s 80ms/step - loss: 0.2348 - accuracy: 0.9190 - val_loss: 0.1908 - val_accuracy: 0.9306\n",
      "Epoch 43/200\n",
      "27/27 [==============================] - 2s 80ms/step - loss: 0.2133 - accuracy: 0.9155 - val_loss: 0.1694 - val_accuracy: 0.9444\n",
      "Epoch 44/200\n",
      "27/27 [==============================] - 2s 85ms/step - loss: 0.2193 - accuracy: 0.9179 - val_loss: 0.2018 - val_accuracy: 0.9306\n",
      "Epoch 45/200\n",
      "27/27 [==============================] - 2s 88ms/step - loss: 0.2092 - accuracy: 0.9167 - val_loss: 0.1722 - val_accuracy: 0.9306\n",
      "Epoch 46/200\n",
      "27/27 [==============================] - 2s 87ms/step - loss: 0.2206 - accuracy: 0.9202 - val_loss: 0.1976 - val_accuracy: 0.9306\n",
      "Epoch 47/200\n",
      "27/27 [==============================] - 2s 86ms/step - loss: 0.2197 - accuracy: 0.9155 - val_loss: 0.1740 - val_accuracy: 0.9306\n",
      "Epoch 48/200\n",
      "27/27 [==============================] - 2s 90ms/step - loss: 0.2339 - accuracy: 0.9179 - val_loss: 0.1871 - val_accuracy: 0.9444\n",
      "Epoch 49/200\n",
      "27/27 [==============================] - 2s 83ms/step - loss: 0.2055 - accuracy: 0.9250 - val_loss: 0.1882 - val_accuracy: 0.9306\n",
      "Epoch 50/200\n",
      "27/27 [==============================] - 2s 80ms/step - loss: 0.1973 - accuracy: 0.9262 - val_loss: 0.1842 - val_accuracy: 0.9444\n",
      "Epoch 51/200\n",
      "27/27 [==============================] - 2s 81ms/step - loss: 0.2325 - accuracy: 0.9143 - val_loss: 0.1967 - val_accuracy: 0.9306\n",
      "Epoch 52/200\n",
      "27/27 [==============================] - 2s 78ms/step - loss: 0.2160 - accuracy: 0.9155 - val_loss: 0.2030 - val_accuracy: 0.9444\n",
      "Epoch 53/200\n",
      "27/27 [==============================] - 2s 79ms/step - loss: 0.2075 - accuracy: 0.9226 - val_loss: 0.1736 - val_accuracy: 0.9444\n",
      "Epoch 54/200\n",
      "27/27 [==============================] - 2s 81ms/step - loss: 0.2058 - accuracy: 0.9179 - val_loss: 0.1707 - val_accuracy: 0.9444\n",
      "Epoch 55/200\n",
      "27/27 [==============================] - 2s 80ms/step - loss: 0.2100 - accuracy: 0.9179 - val_loss: 0.1836 - val_accuracy: 0.9306\n",
      "Epoch 56/200\n",
      "27/27 [==============================] - 2s 81ms/step - loss: 0.1955 - accuracy: 0.9214 - val_loss: 0.1815 - val_accuracy: 0.9444\n",
      "Epoch 57/200\n",
      "27/27 [==============================] - 2s 79ms/step - loss: 0.2043 - accuracy: 0.9202 - val_loss: 0.1737 - val_accuracy: 0.9306\n",
      "Epoch 58/200\n",
      "27/27 [==============================] - 2s 86ms/step - loss: 0.2077 - accuracy: 0.9238 - val_loss: 0.1808 - val_accuracy: 0.9306\n",
      "Epoch 59/200\n",
      "27/27 [==============================] - 2s 81ms/step - loss: 0.2064 - accuracy: 0.9202 - val_loss: 0.1772 - val_accuracy: 0.9306\n",
      "Epoch 60/200\n",
      "27/27 [==============================] - 2s 91ms/step - loss: 0.2083 - accuracy: 0.9238 - val_loss: 0.1817 - val_accuracy: 0.9306\n",
      "Epoch 61/200\n",
      "27/27 [==============================] - 2s 83ms/step - loss: 0.1918 - accuracy: 0.9226 - val_loss: 0.1797 - val_accuracy: 0.9444\n",
      "Epoch 62/200\n",
      "27/27 [==============================] - 2s 84ms/step - loss: 0.2002 - accuracy: 0.9274 - val_loss: 0.1672 - val_accuracy: 0.9306\n",
      "Epoch 63/200\n",
      "27/27 [==============================] - 2s 81ms/step - loss: 0.1933 - accuracy: 0.9274 - val_loss: 0.1739 - val_accuracy: 0.9306\n",
      "Epoch 64/200\n",
      "27/27 [==============================] - 2s 81ms/step - loss: 0.1948 - accuracy: 0.9214 - val_loss: 0.1742 - val_accuracy: 0.9306\n",
      "Epoch 65/200\n",
      "27/27 [==============================] - 2s 83ms/step - loss: 0.1863 - accuracy: 0.9310 - val_loss: 0.1693 - val_accuracy: 0.9444\n",
      "Epoch 66/200\n",
      "27/27 [==============================] - 2s 80ms/step - loss: 0.1850 - accuracy: 0.9286 - val_loss: 0.2215 - val_accuracy: 0.9444\n",
      "Epoch 67/200\n",
      "27/27 [==============================] - 2s 81ms/step - loss: 0.2287 - accuracy: 0.9179 - val_loss: 0.2306 - val_accuracy: 0.9444\n",
      "Epoch 68/200\n",
      "27/27 [==============================] - 2s 81ms/step - loss: 0.2018 - accuracy: 0.9250 - val_loss: 0.1880 - val_accuracy: 0.9306\n",
      "Epoch 69/200\n",
      "27/27 [==============================] - 2s 83ms/step - loss: 0.2061 - accuracy: 0.9262 - val_loss: 0.1813 - val_accuracy: 0.9306\n",
      "Epoch 70/200\n",
      "27/27 [==============================] - 2s 90ms/step - loss: 0.2023 - accuracy: 0.9226 - val_loss: 0.1843 - val_accuracy: 0.9444\n",
      "Epoch 71/200\n",
      "27/27 [==============================] - 3s 108ms/step - loss: 0.1939 - accuracy: 0.9238 - val_loss: 0.1803 - val_accuracy: 0.9306\n",
      "Epoch 72/200\n",
      "27/27 [==============================] - 3s 96ms/step - loss: 0.2064 - accuracy: 0.9226 - val_loss: 0.1787 - val_accuracy: 0.9306\n",
      "Epoch 73/200\n",
      "27/27 [==============================] - 2s 84ms/step - loss: 0.1952 - accuracy: 0.9262 - val_loss: 0.1822 - val_accuracy: 0.9444\n",
      "Epoch 74/200\n",
      "27/27 [==============================] - 2s 81ms/step - loss: 0.1876 - accuracy: 0.9262 - val_loss: 0.1942 - val_accuracy: 0.9444\n",
      "Epoch 75/200\n",
      "27/27 [==============================] - 2s 87ms/step - loss: 0.1978 - accuracy: 0.9238 - val_loss: 0.1680 - val_accuracy: 0.9444\n",
      "Epoch 76/200\n",
      "27/27 [==============================] - 3s 102ms/step - loss: 0.2005 - accuracy: 0.9238 - val_loss: 0.2094 - val_accuracy: 0.9167\n",
      "Epoch 77/200\n",
      "27/27 [==============================] - 3s 94ms/step - loss: 0.1919 - accuracy: 0.9250 - val_loss: 0.1812 - val_accuracy: 0.9444\n",
      "Epoch 78/200\n",
      "27/27 [==============================] - 2s 88ms/step - loss: 0.1962 - accuracy: 0.9381 - val_loss: 0.1894 - val_accuracy: 0.9444\n",
      "Epoch 79/200\n",
      "27/27 [==============================] - 3s 92ms/step - loss: 0.1887 - accuracy: 0.9333 - val_loss: 0.1734 - val_accuracy: 0.9306\n",
      "Epoch 80/200\n",
      "27/27 [==============================] - 2s 88ms/step - loss: 0.1822 - accuracy: 0.9298 - val_loss: 0.2112 - val_accuracy: 0.9167\n",
      "Epoch 81/200\n",
      "27/27 [==============================] - 2s 85ms/step - loss: 0.1808 - accuracy: 0.9345 - val_loss: 0.1774 - val_accuracy: 0.9444\n",
      "Epoch 82/200\n",
      "27/27 [==============================] - 2s 87ms/step - loss: 0.1819 - accuracy: 0.9321 - val_loss: 0.2060 - val_accuracy: 0.9306\n"
     ]
    }
   ],
   "source": [
    "# Train the model\n",
    "history = classification_model.fit(\n",
    "    X_train, y_train,\n",
    "    validation_data=(X_val, y_val),\n",
    "    batch_size=32,\n",
    "    epochs=200,\n",
    "    callbacks=[early_stopping]\n",
    ")"
   ]
  },
  {
   "cell_type": "code",
   "execution_count": 12,
   "metadata": {},
   "outputs": [
    {
     "name": "stdout",
     "output_type": "stream",
     "text": [
      "3/3 - 0s - loss: 0.1672 - accuracy: 0.9306 - 90ms/epoch - 30ms/step\n",
      "Val Accuracy: 93.06%\n",
      "Val Loss: 0.1672\n"
     ]
    }
   ],
   "source": [
    "# Evaluate the model on the val set\n",
    "val_loss, val_accuracy = classification_model.evaluate(X_val, y_val, verbose=2)\n",
    "print(f\"Val Accuracy: {val_accuracy * 100:.2f}%\")\n",
    "print(f\"Val Loss: {val_loss:.4f}\")"
   ]
  },
  {
   "cell_type": "code",
   "execution_count": 13,
   "metadata": {},
   "outputs": [
    {
     "name": "stdout",
     "output_type": "stream",
     "text": [
      "9/9 - 0s - loss: 0.1743 - accuracy: 0.9444 - 306ms/epoch - 34ms/step\n",
      "Test Accuracy: 94.44%\n",
      "Test Loss: 0.1743\n"
     ]
    }
   ],
   "source": [
    "# Evaluate the model on the test set\n",
    "test_loss, test_accuracy = classification_model.evaluate(X_test, y_test, verbose=2)\n",
    "print(f\"Test Accuracy: {test_accuracy * 100:.2f}%\")\n",
    "print(f\"Test Loss: {test_loss:.4f}\")"
   ]
  },
  {
   "cell_type": "code",
   "execution_count": 14,
   "metadata": {},
   "outputs": [],
   "source": [
    "# Save the model\n",
    "model_json = classification_model.to_json()\n",
    "with open(\"../models_features/CNN_ODA.json\", \"w\") as json_file:\n",
    "    json_file.write(model_json)\n",
    "\n",
    "# Saving the model and weights\n",
    "classification_model.save_weights('../models_features/CNN_ODA.weights.h5')"
   ]
  }
 ],
 "metadata": {
  "kernelspec": {
   "display_name": "tensorflow",
   "language": "python",
   "name": "python3"
  },
  "language_info": {
   "codemirror_mode": {
    "name": "ipython",
    "version": 3
   },
   "file_extension": ".py",
   "mimetype": "text/x-python",
   "name": "python",
   "nbconvert_exporter": "python",
   "pygments_lexer": "ipython3",
   "version": "3.8.19"
  }
 },
 "nbformat": 4,
 "nbformat_minor": 2
}

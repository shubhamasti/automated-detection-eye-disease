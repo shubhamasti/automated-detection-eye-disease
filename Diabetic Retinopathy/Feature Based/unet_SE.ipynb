{
 "cells": [
  {
   "cell_type": "markdown",
   "metadata": {},
   "source": [
    "## Segment Soft Exudates"
   ]
  },
  {
   "cell_type": "markdown",
   "metadata": {},
   "source": [
    "### UNET model"
   ]
  },
  {
   "cell_type": "code",
   "execution_count": 1,
   "metadata": {},
   "outputs": [],
   "source": [
    "import os\n",
    "import numpy as np\n",
    "\n",
    "import tensorflow as tf\n",
    "from tensorflow.keras.preprocessing.image import load_img, img_to_array\n",
    "from tensorflow.keras import layers, models\n",
    "\n",
    "from sklearn.model_selection import train_test_split"
   ]
  },
  {
   "cell_type": "code",
   "execution_count": 2,
   "metadata": {},
   "outputs": [],
   "source": [
    "def load_data(image_dir, mask_dir, image_size):\n",
    "    images = []\n",
    "    masks = []\n",
    "    \n",
    "    # Loop through all image files\n",
    "    for filename in os.listdir(image_dir):\n",
    "        if filename.endswith(\".jpg\"):\n",
    "            # Get the base name (e.g., 'H0001' from 'H0001.jpg')\n",
    "            base_name = os.path.splitext(filename)[0]\n",
    "            \n",
    "            # Construct the corresponding mask filename\n",
    "            mask_filename = f\"{base_name}.tif\"\n",
    "            \n",
    "            # Check if the corresponding mask exists\n",
    "            img_path = os.path.join(image_dir, filename)\n",
    "            mask_path = os.path.join(mask_dir, mask_filename)\n",
    "        \n",
    "            if os.path.exists(mask_path):\n",
    "                # Load and resize the image and mask\n",
    "                img = load_img(img_path, target_size=image_size)\n",
    "                mask = load_img(mask_path, target_size=image_size, color_mode=\"grayscale\")\n",
    "                \n",
    "                # Convert to numpy arrays\n",
    "                img_array = img_to_array(img) / 255.0  # Normalize the image between 0 and 1\n",
    "                mask_array = img_to_array(mask) / 255.0  # Mask is binary\n",
    "                \n",
    "                # Append the arrays to the lists\n",
    "                images.append(img_array)\n",
    "                masks.append(mask_array)\n",
    "            else:\n",
    "                print(f\"Skipping {filename} as no corresponding mask was found.\")\n",
    "    \n",
    "    # Convert the lists to numpy arrays\n",
    "    return np.array(images), np.array(masks)\n",
    "\n",
    "def unet_model(input_size=(256, 256, 3)):\n",
    "    inputs = layers.Input(input_size)\n",
    "    \n",
    "    # Encoder\n",
    "    conv1 = layers.Conv2D(64, 3, activation='relu', padding='same')(inputs)\n",
    "    conv1 = layers.Conv2D(64, 3, activation='relu', padding='same')(conv1)\n",
    "    pool1 = layers.MaxPooling2D(pool_size=(2, 2))(conv1)\n",
    "    \n",
    "    conv2 = layers.Conv2D(128, 3, activation='relu', padding='same')(pool1)\n",
    "    conv2 = layers.Conv2D(128, 3, activation='relu', padding='same')(conv2)\n",
    "    pool2 = layers.MaxPooling2D(pool_size=(2, 2))(conv2)\n",
    "    \n",
    "    # Bottleneck\n",
    "    conv3 = layers.Conv2D(256, 3, activation='relu', padding='same')(pool2)\n",
    "    conv3 = layers.Conv2D(256, 3, activation='relu', padding='same')(conv3)\n",
    "    \n",
    "    # Decoder\n",
    "    up1 = layers.UpSampling2D(size=(2, 2))(conv3)\n",
    "    up1 = layers.concatenate([up1, conv2], axis=-1)\n",
    "    conv4 = layers.Conv2D(128, 3, activation='relu', padding='same')(up1)\n",
    "    conv4 = layers.Conv2D(128, 3, activation='relu', padding='same')(conv4)\n",
    "    \n",
    "    up2 = layers.UpSampling2D(size=(2, 2))(conv4)\n",
    "    up2 = layers.concatenate([up2, conv1], axis=-1)\n",
    "    conv5 = layers.Conv2D(64, 3, activation='relu', padding='same')(up2)\n",
    "    conv5 = layers.Conv2D(64, 3, activation='relu', padding='same')(conv5)\n",
    "    \n",
    "    outputs = layers.Conv2D(1, 1, activation='sigmoid')(conv5)  # Sigmoid for binary classification\n",
    "    \n",
    "    model = models.Model(inputs=[inputs], outputs=[outputs])\n",
    "    return model\n",
    "\n",
    "# Dice Loss function\n",
    "def dice_loss(y_true, y_pred):\n",
    "    numerator = 2 * tf.reduce_sum(y_true * y_pred)\n",
    "    denominator = tf.reduce_sum(y_true + y_pred)\n",
    "    return 1 - numerator / denominator\n",
    "\n",
    "# Combined BCE and Dice Loss\n",
    "def combined_bce_dice_loss(y_true, y_pred):\n",
    "    bce_loss = tf.keras.losses.BinaryCrossentropy()(y_true, y_pred)\n",
    "    d_loss = dice_loss(y_true, y_pred)\n",
    "    return bce_loss + d_loss\n",
    "\n",
    "# using tf\n",
    "def iou_metric(y_true, y_pred):\n",
    "    # Convert predicted mask probabilities to binary (0 or 1)\n",
    "    y_pred = tf.round(y_pred)\n",
    "\n",
    "    intersection = tf.reduce_sum(y_true * y_pred)\n",
    "    union = tf.reduce_sum(y_true) + tf.reduce_sum(y_pred) - intersection\n",
    "    iou = intersection / (union + tf.keras.backend.epsilon())\n",
    "    return iou\n",
    "\n",
    "def dice_coefficient(y_true, y_pred):\n",
    "    # Convert predicted mask probabilities to binary (0 or 1)\n",
    "    y_pred = tf.round(y_pred)\n",
    "\n",
    "    intersection = tf.reduce_sum(y_true * y_pred)\n",
    "    dice = (2. * intersection) / (tf.reduce_sum(y_true) + tf.reduce_sum(y_pred) + tf.keras.backend.epsilon())\n",
    "    return dice\n"
   ]
  },
  {
   "cell_type": "code",
   "execution_count": 3,
   "metadata": {},
   "outputs": [
    {
     "name": "stderr",
     "output_type": "stream",
     "text": [
      "2024-10-22 11:57:16.994188: I tensorflow/core/common_runtime/pluggable_device/pluggable_device_factory.cc:305] Could not identify NUMA node of platform GPU ID 0, defaulting to 0. Your kernel may not have been built with NUMA support.\n",
      "2024-10-22 11:57:16.995091: I tensorflow/core/common_runtime/pluggable_device/pluggable_device_factory.cc:271] Created TensorFlow device (/job:localhost/replica:0/task:0/device:GPU:0 with 0 MB memory) -> physical PluggableDevice (device: 0, name: METAL, pci bus id: <undefined>)\n"
     ]
    },
    {
     "name": "stdout",
     "output_type": "stream",
     "text": [
      "Metal device set to: Apple M2 Pro\n",
      "\n",
      "systemMemory: 16.00 GB\n",
      "maxCacheSize: 5.33 GB\n",
      "\n"
     ]
    }
   ],
   "source": [
    "model = unet_model(input_size=(256, 256, 3))\n",
    "model.compile(optimizer='adam', loss=combined_bce_dice_loss, metrics=['accuracy', iou_metric, dice_coefficient])"
   ]
  },
  {
   "cell_type": "code",
   "execution_count": 4,
   "metadata": {},
   "outputs": [
    {
     "name": "stdout",
     "output_type": "stream",
     "text": [
      "Model: \"model\"\n",
      "__________________________________________________________________________________________________\n",
      " Layer (type)                   Output Shape         Param #     Connected to                     \n",
      "==================================================================================================\n",
      " input_1 (InputLayer)           [(None, 256, 256, 3  0           []                               \n",
      "                                )]                                                                \n",
      "                                                                                                  \n",
      " conv2d (Conv2D)                (None, 256, 256, 64  1792        ['input_1[0][0]']                \n",
      "                                )                                                                 \n",
      "                                                                                                  \n",
      " conv2d_1 (Conv2D)              (None, 256, 256, 64  36928       ['conv2d[0][0]']                 \n",
      "                                )                                                                 \n",
      "                                                                                                  \n",
      " max_pooling2d (MaxPooling2D)   (None, 128, 128, 64  0           ['conv2d_1[0][0]']               \n",
      "                                )                                                                 \n",
      "                                                                                                  \n",
      " conv2d_2 (Conv2D)              (None, 128, 128, 12  73856       ['max_pooling2d[0][0]']          \n",
      "                                8)                                                                \n",
      "                                                                                                  \n",
      " conv2d_3 (Conv2D)              (None, 128, 128, 12  147584      ['conv2d_2[0][0]']               \n",
      "                                8)                                                                \n",
      "                                                                                                  \n",
      " max_pooling2d_1 (MaxPooling2D)  (None, 64, 64, 128)  0          ['conv2d_3[0][0]']               \n",
      "                                                                                                  \n",
      " conv2d_4 (Conv2D)              (None, 64, 64, 256)  295168      ['max_pooling2d_1[0][0]']        \n",
      "                                                                                                  \n",
      " conv2d_5 (Conv2D)              (None, 64, 64, 256)  590080      ['conv2d_4[0][0]']               \n",
      "                                                                                                  \n",
      " up_sampling2d (UpSampling2D)   (None, 128, 128, 25  0           ['conv2d_5[0][0]']               \n",
      "                                6)                                                                \n",
      "                                                                                                  \n",
      " concatenate (Concatenate)      (None, 128, 128, 38  0           ['up_sampling2d[0][0]',          \n",
      "                                4)                                'conv2d_3[0][0]']               \n",
      "                                                                                                  \n",
      " conv2d_6 (Conv2D)              (None, 128, 128, 12  442496      ['concatenate[0][0]']            \n",
      "                                8)                                                                \n",
      "                                                                                                  \n",
      " conv2d_7 (Conv2D)              (None, 128, 128, 12  147584      ['conv2d_6[0][0]']               \n",
      "                                8)                                                                \n",
      "                                                                                                  \n",
      " up_sampling2d_1 (UpSampling2D)  (None, 256, 256, 12  0          ['conv2d_7[0][0]']               \n",
      "                                8)                                                                \n",
      "                                                                                                  \n",
      " concatenate_1 (Concatenate)    (None, 256, 256, 19  0           ['up_sampling2d_1[0][0]',        \n",
      "                                2)                                'conv2d_1[0][0]']               \n",
      "                                                                                                  \n",
      " conv2d_8 (Conv2D)              (None, 256, 256, 64  110656      ['concatenate_1[0][0]']          \n",
      "                                )                                                                 \n",
      "                                                                                                  \n",
      " conv2d_9 (Conv2D)              (None, 256, 256, 64  36928       ['conv2d_8[0][0]']               \n",
      "                                )                                                                 \n",
      "                                                                                                  \n",
      " conv2d_10 (Conv2D)             (None, 256, 256, 1)  65          ['conv2d_9[0][0]']               \n",
      "                                                                                                  \n",
      "==================================================================================================\n",
      "Total params: 1,883,137\n",
      "Trainable params: 1,883,137\n",
      "Non-trainable params: 0\n",
      "__________________________________________________________________________________________________\n"
     ]
    }
   ],
   "source": [
    "model.summary()"
   ]
  },
  {
   "cell_type": "code",
   "execution_count": 5,
   "metadata": {},
   "outputs": [],
   "source": [
    "# Directories for images and masks\n",
    "image_dir = \"path/to/augmented/dir/SEAugmented/Images\"\n",
    "mask_dir = \"path/to/augmented/dir/SEAugmented/Masks\"\n",
    "\n",
    "\n",
    "# Image size (height, width, channels)\n",
    "image_size = (256, 256)\n",
    "\n",
    "all_images, all_masks = load_data(image_dir, mask_dir, image_size)\n",
    "\n",
    "# Split into training and test sets (80% train, 20% test)\n",
    "train_images, test_images, train_masks, test_masks = train_test_split(\n",
    "    all_images, all_masks, test_size=0.2, random_state=42\n",
    ")\n",
    "\n",
    "# split train set into training and validation sets (90% train, 10% validation)\n",
    "train_images, val_images, train_masks, val_masks = train_test_split(\n",
    "    train_images, train_masks, test_size=0.1, random_state=42\n",
    ")"
   ]
  },
  {
   "cell_type": "code",
   "execution_count": 6,
   "metadata": {},
   "outputs": [
    {
     "data": {
      "text/plain": [
       "(747, 747)"
      ]
     },
     "execution_count": 6,
     "metadata": {},
     "output_type": "execute_result"
    }
   ],
   "source": [
    "len(all_images), len(all_masks)"
   ]
  },
  {
   "cell_type": "code",
   "execution_count": 8,
   "metadata": {},
   "outputs": [
    {
     "name": "stdout",
     "output_type": "stream",
     "text": [
      "Epoch 1/75\n",
      "33/33 [==============================] - ETA: 0s - loss: 1.0851 - accuracy: 0.9982 - iou_metric: 0.0000e+00 - dice_coefficient: 0.0000e+00"
     ]
    },
    {
     "name": "stderr",
     "output_type": "stream",
     "text": [
      "2024-10-22 11:58:39.161643: I tensorflow/core/grappler/optimizers/custom_graph_optimizer_registry.cc:113] Plugin optimizer for device_type GPU is enabled.\n"
     ]
    },
    {
     "name": "stdout",
     "output_type": "stream",
     "text": [
      "33/33 [==============================] - 51s 2s/step - loss: 1.0851 - accuracy: 0.9982 - iou_metric: 0.0000e+00 - dice_coefficient: 0.0000e+00 - val_loss: 1.0109 - val_accuracy: 0.9976 - val_iou_metric: 0.0000e+00 - val_dice_coefficient: 0.0000e+00\n",
      "Epoch 2/75\n",
      "33/33 [==============================] - 51s 2s/step - loss: 1.0097 - accuracy: 0.9982 - iou_metric: 0.0000e+00 - dice_coefficient: 0.0000e+00 - val_loss: 1.0099 - val_accuracy: 0.9976 - val_iou_metric: 0.0000e+00 - val_dice_coefficient: 0.0000e+00\n",
      "Epoch 3/75\n",
      "33/33 [==============================] - 40s 1s/step - loss: 1.0087 - accuracy: 0.9982 - iou_metric: 0.0000e+00 - dice_coefficient: 0.0000e+00 - val_loss: 1.0106 - val_accuracy: 0.9976 - val_iou_metric: 0.0000e+00 - val_dice_coefficient: 0.0000e+00\n",
      "Epoch 4/75\n",
      "33/33 [==============================] - 45s 1s/step - loss: 1.0077 - accuracy: 0.9981 - iou_metric: 0.0000e+00 - dice_coefficient: 0.0000e+00 - val_loss: 1.0077 - val_accuracy: 0.9976 - val_iou_metric: 0.0000e+00 - val_dice_coefficient: 0.0000e+00\n",
      "Epoch 5/75\n",
      "33/33 [==============================] - 39s 1s/step - loss: 1.0057 - accuracy: 0.9982 - iou_metric: 0.0000e+00 - dice_coefficient: 0.0000e+00 - val_loss: 1.0039 - val_accuracy: 0.9976 - val_iou_metric: 0.0000e+00 - val_dice_coefficient: 0.0000e+00\n",
      "Epoch 6/75\n",
      "33/33 [==============================] - 39s 1s/step - loss: 1.0086 - accuracy: 0.9982 - iou_metric: 0.0000e+00 - dice_coefficient: 0.0000e+00 - val_loss: 1.0099 - val_accuracy: 0.9976 - val_iou_metric: 0.0000e+00 - val_dice_coefficient: 0.0000e+00\n",
      "Epoch 7/75\n",
      "33/33 [==============================] - 41s 1s/step - loss: 1.0077 - accuracy: 0.9982 - iou_metric: 0.0000e+00 - dice_coefficient: 0.0000e+00 - val_loss: 1.0066 - val_accuracy: 0.9976 - val_iou_metric: 0.0000e+00 - val_dice_coefficient: 0.0000e+00\n",
      "Epoch 8/75\n",
      "33/33 [==============================] - 95s 3s/step - loss: 1.0081 - accuracy: 0.0269 - iou_metric: 0.0000e+00 - dice_coefficient: 0.0000e+00 - val_loss: 1.0061 - val_accuracy: 0.9976 - val_iou_metric: 0.0000e+00 - val_dice_coefficient: 0.0000e+00\n",
      "Epoch 9/75\n",
      "33/33 [==============================] - 62s 2s/step - loss: 0.9690 - accuracy: 0.9977 - iou_metric: 0.0155 - dice_coefficient: 0.0291 - val_loss: 1.4532 - val_accuracy: 0.7036 - val_iou_metric: 0.0074 - val_dice_coefficient: 0.0147\n",
      "Epoch 10/75\n",
      "33/33 [==============================] - 64s 2s/step - loss: 1.0688 - accuracy: 0.9889 - iou_metric: 0.0021 - dice_coefficient: 0.0041 - val_loss: 1.0063 - val_accuracy: 0.9976 - val_iou_metric: 0.0000e+00 - val_dice_coefficient: 0.0000e+00\n",
      "Epoch 11/75\n",
      "33/33 [==============================] - 41s 1s/step - loss: 1.0063 - accuracy: 0.9981 - iou_metric: 0.0000e+00 - dice_coefficient: 0.0000e+00 - val_loss: 1.0148 - val_accuracy: 0.9976 - val_iou_metric: 0.0000e+00 - val_dice_coefficient: 0.0000e+00\n",
      "Epoch 12/75\n",
      "33/33 [==============================] - 37s 1s/step - loss: 0.9995 - accuracy: 0.9982 - iou_metric: 0.0000e+00 - dice_coefficient: 0.0000e+00 - val_loss: 1.0107 - val_accuracy: 0.9976 - val_iou_metric: 0.0127 - val_dice_coefficient: 0.0246\n",
      "Epoch 13/75\n",
      "33/33 [==============================] - 37s 1s/step - loss: 1.0041 - accuracy: 0.9981 - iou_metric: 0.0029 - dice_coefficient: 0.0057 - val_loss: 0.9305 - val_accuracy: 0.9977 - val_iou_metric: 0.0529 - val_dice_coefficient: 0.0982\n",
      "Epoch 14/75\n",
      "33/33 [==============================] - 39s 1s/step - loss: 0.9864 - accuracy: 0.9969 - iou_metric: 0.0252 - dice_coefficient: 0.0463 - val_loss: 1.0118 - val_accuracy: 0.9976 - val_iou_metric: 0.0000e+00 - val_dice_coefficient: 0.0000e+00\n",
      "Epoch 15/75\n",
      "33/33 [==============================] - 38s 1s/step - loss: 1.0074 - accuracy: 0.9980 - iou_metric: 0.0035 - dice_coefficient: 0.0065 - val_loss: 1.0075 - val_accuracy: 0.9976 - val_iou_metric: 0.0000e+00 - val_dice_coefficient: 0.0000e+00\n",
      "Epoch 16/75\n",
      "33/33 [==============================] - 40s 1s/step - loss: 1.0022 - accuracy: 0.9979 - iou_metric: 0.0018 - dice_coefficient: 0.0035 - val_loss: 0.9975 - val_accuracy: 0.9976 - val_iou_metric: 0.0000e+00 - val_dice_coefficient: 0.0000e+00\n",
      "Epoch 17/75\n",
      "33/33 [==============================] - 39s 1s/step - loss: 0.9881 - accuracy: 0.9958 - iou_metric: 0.0057 - dice_coefficient: 0.0107 - val_loss: 0.9628 - val_accuracy: 0.9975 - val_iou_metric: 0.0269 - val_dice_coefficient: 0.0500\n",
      "Epoch 18/75\n",
      "33/33 [==============================] - 38s 1s/step - loss: 1.0419 - accuracy: 0.9955 - iou_metric: 0.0085 - dice_coefficient: 0.0161 - val_loss: 0.9982 - val_accuracy: 0.9976 - val_iou_metric: 0.0397 - val_dice_coefficient: 0.0744\n",
      "Epoch 19/75\n",
      "33/33 [==============================] - 38s 1s/step - loss: 0.9852 - accuracy: 0.9980 - iou_metric: 0.0189 - dice_coefficient: 0.0352 - val_loss: 0.9700 - val_accuracy: 0.9975 - val_iou_metric: 0.0341 - val_dice_coefficient: 0.0642\n",
      "Epoch 20/75\n",
      "33/33 [==============================] - 37s 1s/step - loss: 1.0100 - accuracy: 0.9973 - iou_metric: 0.0098 - dice_coefficient: 0.0185 - val_loss: 1.0053 - val_accuracy: 0.9976 - val_iou_metric: 0.0000e+00 - val_dice_coefficient: 0.0000e+00\n",
      "Epoch 21/75\n",
      "33/33 [==============================] - 38s 1s/step - loss: 0.9848 - accuracy: 0.9967 - iou_metric: 0.0198 - dice_coefficient: 0.0377 - val_loss: 0.9528 - val_accuracy: 0.9974 - val_iou_metric: 0.0437 - val_dice_coefficient: 0.0802\n",
      "Epoch 22/75\n",
      "33/33 [==============================] - 38s 1s/step - loss: 0.9625 - accuracy: 0.9961 - iou_metric: 0.0430 - dice_coefficient: 0.0794 - val_loss: 0.9104 - val_accuracy: 0.9970 - val_iou_metric: 0.0767 - val_dice_coefficient: 0.1324\n",
      "Epoch 23/75\n",
      "33/33 [==============================] - 37s 1s/step - loss: 0.9395 - accuracy: 0.9967 - iou_metric: 0.0536 - dice_coefficient: 0.0987 - val_loss: 1.0307 - val_accuracy: 0.9953 - val_iou_metric: 0.0257 - val_dice_coefficient: 0.0491\n",
      "Epoch 24/75\n",
      "33/33 [==============================] - 38s 1s/step - loss: 0.9738 - accuracy: 0.9963 - iou_metric: 0.0441 - dice_coefficient: 0.0807 - val_loss: 0.8319 - val_accuracy: 0.9957 - val_iou_metric: 0.1229 - val_dice_coefficient: 0.2071\n",
      "Epoch 25/75\n",
      "33/33 [==============================] - 38s 1s/step - loss: 0.9360 - accuracy: 0.9956 - iou_metric: 0.0585 - dice_coefficient: 0.1078 - val_loss: 0.9099 - val_accuracy: 0.9977 - val_iou_metric: 0.0747 - val_dice_coefficient: 0.1337\n",
      "Epoch 26/75\n",
      "33/33 [==============================] - 38s 1s/step - loss: 0.9635 - accuracy: 0.9904 - iou_metric: 0.0559 - dice_coefficient: 0.1033 - val_loss: 0.9067 - val_accuracy: 0.9970 - val_iou_metric: 0.0801 - val_dice_coefficient: 0.1380\n",
      "Epoch 27/75\n",
      "33/33 [==============================] - 38s 1s/step - loss: 0.8941 - accuracy: 0.9969 - iou_metric: 0.0884 - dice_coefficient: 0.1554 - val_loss: 0.8591 - val_accuracy: 0.9968 - val_iou_metric: 0.1062 - val_dice_coefficient: 0.1845\n",
      "Epoch 28/75\n",
      "33/33 [==============================] - 38s 1s/step - loss: 0.8334 - accuracy: 0.9969 - iou_metric: 0.1183 - dice_coefficient: 0.2061 - val_loss: 0.8749 - val_accuracy: 0.9975 - val_iou_metric: 0.0971 - val_dice_coefficient: 0.1695\n",
      "Epoch 29/75\n",
      "33/33 [==============================] - 38s 1s/step - loss: 0.7986 - accuracy: 0.9974 - iou_metric: 0.1339 - dice_coefficient: 0.2320 - val_loss: 0.7679 - val_accuracy: 0.9969 - val_iou_metric: 0.1574 - val_dice_coefficient: 0.2597\n",
      "Epoch 30/75\n",
      "33/33 [==============================] - 38s 1s/step - loss: 0.7651 - accuracy: 0.9971 - iou_metric: 0.1547 - dice_coefficient: 0.2631 - val_loss: 0.7398 - val_accuracy: 0.9967 - val_iou_metric: 0.1724 - val_dice_coefficient: 0.2835\n",
      "Epoch 31/75\n",
      "33/33 [==============================] - 38s 1s/step - loss: 0.7287 - accuracy: 0.9973 - iou_metric: 0.1769 - dice_coefficient: 0.2962 - val_loss: 0.8009 - val_accuracy: 0.9975 - val_iou_metric: 0.1366 - val_dice_coefficient: 0.2304\n",
      "Epoch 32/75\n",
      "33/33 [==============================] - 39s 1s/step - loss: 0.7670 - accuracy: 0.9972 - iou_metric: 0.1544 - dice_coefficient: 0.2630 - val_loss: 0.7591 - val_accuracy: 0.9973 - val_iou_metric: 0.1577 - val_dice_coefficient: 0.2615\n",
      "Epoch 33/75\n",
      "33/33 [==============================] - 38s 1s/step - loss: 0.6887 - accuracy: 0.9975 - iou_metric: 0.2044 - dice_coefficient: 0.3358 - val_loss: 0.6953 - val_accuracy: 0.9969 - val_iou_metric: 0.2008 - val_dice_coefficient: 0.3291\n",
      "Epoch 34/75\n",
      "33/33 [==============================] - 38s 1s/step - loss: 0.6791 - accuracy: 0.9976 - iou_metric: 0.2135 - dice_coefficient: 0.3480 - val_loss: 0.7037 - val_accuracy: 0.9967 - val_iou_metric: 0.1966 - val_dice_coefficient: 0.3230\n",
      "Epoch 35/75\n",
      "33/33 [==============================] - 38s 1s/step - loss: 0.6823 - accuracy: 0.9976 - iou_metric: 0.2093 - dice_coefficient: 0.3419 - val_loss: 0.7071 - val_accuracy: 0.9974 - val_iou_metric: 0.1914 - val_dice_coefficient: 0.3178\n",
      "Epoch 36/75\n",
      "33/33 [==============================] - 37s 1s/step - loss: 0.6589 - accuracy: 0.9976 - iou_metric: 0.2236 - dice_coefficient: 0.3619 - val_loss: 0.6557 - val_accuracy: 0.9971 - val_iou_metric: 0.2277 - val_dice_coefficient: 0.3687\n",
      "Epoch 37/75\n",
      "33/33 [==============================] - 38s 1s/step - loss: 0.6440 - accuracy: 0.9976 - iou_metric: 0.2357 - dice_coefficient: 0.3779 - val_loss: 0.6469 - val_accuracy: 0.9972 - val_iou_metric: 0.2351 - val_dice_coefficient: 0.3783\n",
      "Epoch 38/75\n",
      "33/33 [==============================] - 37s 1s/step - loss: 0.6554 - accuracy: 0.9976 - iou_metric: 0.2247 - dice_coefficient: 0.3640 - val_loss: 0.6915 - val_accuracy: 0.9974 - val_iou_metric: 0.2006 - val_dice_coefficient: 0.3331\n",
      "Epoch 39/75\n",
      "33/33 [==============================] - 38s 1s/step - loss: 0.6281 - accuracy: 0.9977 - iou_metric: 0.2476 - dice_coefficient: 0.3933 - val_loss: 0.6528 - val_accuracy: 0.9974 - val_iou_metric: 0.2287 - val_dice_coefficient: 0.3717\n",
      "Epoch 40/75\n",
      "33/33 [==============================] - 38s 1s/step - loss: 0.6224 - accuracy: 0.9976 - iou_metric: 0.2512 - dice_coefficient: 0.3989 - val_loss: 0.6476 - val_accuracy: 0.9973 - val_iou_metric: 0.2331 - val_dice_coefficient: 0.3774\n",
      "Epoch 41/75\n",
      "33/33 [==============================] - 38s 1s/step - loss: 0.6075 - accuracy: 0.9978 - iou_metric: 0.2608 - dice_coefficient: 0.4102 - val_loss: 0.6470 - val_accuracy: 0.9972 - val_iou_metric: 0.2299 - val_dice_coefficient: 0.3732\n",
      "Epoch 42/75\n",
      "33/33 [==============================] - 38s 1s/step - loss: 0.6142 - accuracy: 0.9979 - iou_metric: 0.2563 - dice_coefficient: 0.4050 - val_loss: 0.6353 - val_accuracy: 0.9972 - val_iou_metric: 0.2405 - val_dice_coefficient: 0.3868\n",
      "Epoch 43/75\n",
      "33/33 [==============================] - 38s 1s/step - loss: 0.6126 - accuracy: 0.9977 - iou_metric: 0.2603 - dice_coefficient: 0.4100 - val_loss: 0.6710 - val_accuracy: 0.9974 - val_iou_metric: 0.2158 - val_dice_coefficient: 0.3542\n",
      "Epoch 44/75\n",
      "33/33 [==============================] - 38s 1s/step - loss: 0.6057 - accuracy: 0.9979 - iou_metric: 0.2634 - dice_coefficient: 0.4139 - val_loss: 0.6441 - val_accuracy: 0.9975 - val_iou_metric: 0.2355 - val_dice_coefficient: 0.3805\n",
      "Epoch 45/75\n",
      "33/33 [==============================] - 38s 1s/step - loss: 0.5967 - accuracy: 0.9978 - iou_metric: 0.2711 - dice_coefficient: 0.4234 - val_loss: 0.6300 - val_accuracy: 0.9972 - val_iou_metric: 0.2445 - val_dice_coefficient: 0.3924\n",
      "Epoch 46/75\n",
      "33/33 [==============================] - 38s 1s/step - loss: 0.5904 - accuracy: 0.9979 - iou_metric: 0.2751 - dice_coefficient: 0.4281 - val_loss: 0.6174 - val_accuracy: 0.9972 - val_iou_metric: 0.2571 - val_dice_coefficient: 0.4078\n",
      "Epoch 47/75\n",
      "33/33 [==============================] - 38s 1s/step - loss: 0.5825 - accuracy: 0.9979 - iou_metric: 0.2813 - dice_coefficient: 0.4370 - val_loss: 0.6412 - val_accuracy: 0.9975 - val_iou_metric: 0.2399 - val_dice_coefficient: 0.3859\n",
      "Epoch 48/75\n",
      "33/33 [==============================] - 37s 1s/step - loss: 0.5870 - accuracy: 0.9978 - iou_metric: 0.2768 - dice_coefficient: 0.4313 - val_loss: 0.6145 - val_accuracy: 0.9973 - val_iou_metric: 0.2574 - val_dice_coefficient: 0.4088\n",
      "Epoch 49/75\n",
      "33/33 [==============================] - 38s 1s/step - loss: 0.5872 - accuracy: 0.9979 - iou_metric: 0.2783 - dice_coefficient: 0.4320 - val_loss: 0.6060 - val_accuracy: 0.9974 - val_iou_metric: 0.2665 - val_dice_coefficient: 0.4198\n",
      "Epoch 50/75\n",
      "33/33 [==============================] - 37s 1s/step - loss: 0.5439 - accuracy: 0.9979 - iou_metric: 0.3151 - dice_coefficient: 0.4767 - val_loss: 0.6696 - val_accuracy: 0.9976 - val_iou_metric: 0.2155 - val_dice_coefficient: 0.3543\n",
      "Epoch 51/75\n",
      "33/33 [==============================] - 38s 1s/step - loss: 0.5660 - accuracy: 0.9980 - iou_metric: 0.2963 - dice_coefficient: 0.4533 - val_loss: 0.6498 - val_accuracy: 0.9977 - val_iou_metric: 0.2334 - val_dice_coefficient: 0.3775\n",
      "Epoch 52/75\n",
      "33/33 [==============================] - 38s 1s/step - loss: 0.5524 - accuracy: 0.9980 - iou_metric: 0.3067 - dice_coefficient: 0.4667 - val_loss: 0.6173 - val_accuracy: 0.9975 - val_iou_metric: 0.2543 - val_dice_coefficient: 0.4047\n",
      "Epoch 53/75\n",
      "33/33 [==============================] - 38s 1s/step - loss: 0.5470 - accuracy: 0.9979 - iou_metric: 0.3120 - dice_coefficient: 0.4710 - val_loss: 0.6761 - val_accuracy: 0.9977 - val_iou_metric: 0.2105 - val_dice_coefficient: 0.3473\n",
      "Epoch 54/75\n",
      "33/33 [==============================] - 38s 1s/step - loss: 0.5565 - accuracy: 0.9981 - iou_metric: 0.3022 - dice_coefficient: 0.4612 - val_loss: 0.6977 - val_accuracy: 0.9977 - val_iou_metric: 0.1964 - val_dice_coefficient: 0.3282\n",
      "Epoch 55/75\n",
      "33/33 [==============================] - 37s 1s/step - loss: 0.5392 - accuracy: 0.9980 - iou_metric: 0.3183 - dice_coefficient: 0.4792 - val_loss: 0.6150 - val_accuracy: 0.9972 - val_iou_metric: 0.2582 - val_dice_coefficient: 0.4087\n",
      "Epoch 56/75\n",
      "33/33 [==============================] - 38s 1s/step - loss: 0.5813 - accuracy: 0.9980 - iou_metric: 0.2821 - dice_coefficient: 0.4380 - val_loss: 0.5915 - val_accuracy: 0.9972 - val_iou_metric: 0.2758 - val_dice_coefficient: 0.4308\n",
      "Epoch 57/75\n",
      "33/33 [==============================] - 38s 1s/step - loss: 0.5336 - accuracy: 0.9980 - iou_metric: 0.3251 - dice_coefficient: 0.4868 - val_loss: 0.6545 - val_accuracy: 0.9977 - val_iou_metric: 0.2251 - val_dice_coefficient: 0.3671\n",
      "Epoch 58/75\n",
      "33/33 [==============================] - 37s 1s/step - loss: 0.5139 - accuracy: 0.9982 - iou_metric: 0.3406 - dice_coefficient: 0.5046 - val_loss: 0.5988 - val_accuracy: 0.9976 - val_iou_metric: 0.2674 - val_dice_coefficient: 0.4210\n",
      "Epoch 59/75\n",
      "33/33 [==============================] - 37s 1s/step - loss: 0.5303 - accuracy: 0.9984 - iou_metric: 0.3252 - dice_coefficient: 0.4876 - val_loss: 0.5930 - val_accuracy: 0.9975 - val_iou_metric: 0.2780 - val_dice_coefficient: 0.4333\n",
      "Epoch 60/75\n",
      "33/33 [==============================] - 38s 1s/step - loss: 0.5141 - accuracy: 0.9981 - iou_metric: 0.3392 - dice_coefficient: 0.5033 - val_loss: 0.5998 - val_accuracy: 0.9974 - val_iou_metric: 0.2711 - val_dice_coefficient: 0.4252\n",
      "Epoch 61/75\n",
      "33/33 [==============================] - 40s 1s/step - loss: 0.5505 - accuracy: 0.9980 - iou_metric: 0.3105 - dice_coefficient: 0.4694 - val_loss: 0.5821 - val_accuracy: 0.9973 - val_iou_metric: 0.2834 - val_dice_coefficient: 0.4390\n",
      "Epoch 62/75\n",
      "33/33 [==============================] - 38s 1s/step - loss: 0.5326 - accuracy: 0.9983 - iou_metric: 0.3205 - dice_coefficient: 0.4826 - val_loss: 0.5912 - val_accuracy: 0.9976 - val_iou_metric: 0.2748 - val_dice_coefficient: 0.4305\n",
      "Epoch 63/75\n",
      "33/33 [==============================] - 38s 1s/step - loss: 0.4962 - accuracy: 0.9982 - iou_metric: 0.3535 - dice_coefficient: 0.5198 - val_loss: 0.6064 - val_accuracy: 0.9978 - val_iou_metric: 0.2620 - val_dice_coefficient: 0.4151\n",
      "Epoch 64/75\n",
      "33/33 [==============================] - 38s 1s/step - loss: 0.4962 - accuracy: 0.9983 - iou_metric: 0.3547 - dice_coefficient: 0.5204 - val_loss: 0.6058 - val_accuracy: 0.9977 - val_iou_metric: 0.2672 - val_dice_coefficient: 0.4211\n",
      "Epoch 65/75\n",
      "33/33 [==============================] - 38s 1s/step - loss: 0.4850 - accuracy: 0.9983 - iou_metric: 0.3638 - dice_coefficient: 0.5304 - val_loss: 0.5741 - val_accuracy: 0.9975 - val_iou_metric: 0.2889 - val_dice_coefficient: 0.4466\n",
      "Epoch 66/75\n",
      "33/33 [==============================] - 38s 1s/step - loss: 0.4994 - accuracy: 0.9983 - iou_metric: 0.3529 - dice_coefficient: 0.5183 - val_loss: 0.5853 - val_accuracy: 0.9977 - val_iou_metric: 0.2799 - val_dice_coefficient: 0.4369\n",
      "Epoch 67/75\n",
      "33/33 [==============================] - 38s 1s/step - loss: 0.4768 - accuracy: 0.9984 - iou_metric: 0.3727 - dice_coefficient: 0.5400 - val_loss: 0.5678 - val_accuracy: 0.9975 - val_iou_metric: 0.2941 - val_dice_coefficient: 0.4541\n",
      "Epoch 68/75\n",
      "33/33 [==============================] - 37s 1s/step - loss: 0.4633 - accuracy: 0.9984 - iou_metric: 0.3857 - dice_coefficient: 0.5531 - val_loss: 0.5606 - val_accuracy: 0.9973 - val_iou_metric: 0.2998 - val_dice_coefficient: 0.4598\n",
      "Epoch 69/75\n",
      "33/33 [==============================] - 39s 1s/step - loss: 0.4828 - accuracy: 0.9983 - iou_metric: 0.3674 - dice_coefficient: 0.5342 - val_loss: 0.5780 - val_accuracy: 0.9975 - val_iou_metric: 0.2874 - val_dice_coefficient: 0.4455\n",
      "Epoch 70/75\n",
      "33/33 [==============================] - 37s 1s/step - loss: 0.4778 - accuracy: 0.9984 - iou_metric: 0.3706 - dice_coefficient: 0.5373 - val_loss: 0.5845 - val_accuracy: 0.9975 - val_iou_metric: 0.2811 - val_dice_coefficient: 0.4382\n",
      "Epoch 71/75\n",
      "33/33 [==============================] - 38s 1s/step - loss: 0.4802 - accuracy: 0.9983 - iou_metric: 0.3686 - dice_coefficient: 0.5354 - val_loss: 0.5746 - val_accuracy: 0.9978 - val_iou_metric: 0.2869 - val_dice_coefficient: 0.4449\n",
      "Epoch 72/75\n",
      "33/33 [==============================] - 39s 1s/step - loss: 0.4465 - accuracy: 0.9986 - iou_metric: 0.4002 - dice_coefficient: 0.5698 - val_loss: 0.5816 - val_accuracy: 0.9977 - val_iou_metric: 0.2826 - val_dice_coefficient: 0.4399\n",
      "Epoch 73/75\n",
      "33/33 [==============================] - 38s 1s/step - loss: 0.4402 - accuracy: 0.9986 - iou_metric: 0.4100 - dice_coefficient: 0.5781 - val_loss: 0.6040 - val_accuracy: 0.9978 - val_iou_metric: 0.2641 - val_dice_coefficient: 0.4179\n",
      "Epoch 74/75\n",
      "33/33 [==============================] - 38s 1s/step - loss: 0.4461 - accuracy: 0.9985 - iou_metric: 0.4020 - dice_coefficient: 0.5705 - val_loss: 0.5982 - val_accuracy: 0.9978 - val_iou_metric: 0.2655 - val_dice_coefficient: 0.4194\n",
      "Epoch 75/75\n",
      "33/33 [==============================] - 39s 1s/step - loss: 0.4320 - accuracy: 0.9986 - iou_metric: 0.4139 - dice_coefficient: 0.5824 - val_loss: 0.5479 - val_accuracy: 0.9978 - val_iou_metric: 0.3101 - val_dice_coefficient: 0.4727\n"
     ]
    }
   ],
   "source": [
    "history = model.fit(train_images, train_masks, epochs=75,\n",
    "                    batch_size=16, verbose=1, steps_per_epoch=len(train_images) // 16,\n",
    "                    validation_data=(val_images, val_masks))"
   ]
  },
  {
   "cell_type": "code",
   "execution_count": 9,
   "metadata": {},
   "outputs": [
    {
     "name": "stdout",
     "output_type": "stream",
     "text": [
      "2/2 [==============================] - 2s 843ms/step - loss: 0.5421 - accuracy: 0.9978 - iou_metric: 0.3153 - dice_coefficient: 0.4793\n",
      "Validation Loss: 0.54\n",
      "Validation Accuracy: 99.78%\n",
      "Validation IoU: 31.53%\n",
      "Validation Dice: 47.93%\n"
     ]
    }
   ],
   "source": [
    "scores = model.evaluate(val_images, val_masks)\n",
    "print(\"Validation Loss: %.2f\" % scores[0])\n",
    "print(\"Validation Accuracy: %.2f%%\" % (scores[1] * 100))\n",
    "print(\"Validation IoU: %.2f%%\" % (scores[2] * 100))\n",
    "print(\"Validation Dice: %.2f%%\" % (scores[3] * 100))"
   ]
  },
  {
   "cell_type": "code",
   "execution_count": 10,
   "metadata": {},
   "outputs": [
    {
     "name": "stdout",
     "output_type": "stream",
     "text": [
      "5/5 [==============================] - 5s 848ms/step - loss: 0.5124 - accuracy: 0.9982 - iou_metric: 0.3437 - dice_coefficient: 0.5107\n",
      "Test Loss: 0.51\n",
      "Test Accuracy: 99.82%\n",
      "Test IoU: 34.37%\n",
      "Test Dice: 51.07%\n"
     ]
    }
   ],
   "source": [
    "scores = model.evaluate(test_images, test_masks)\n",
    "print(\"Test Loss: %.2f\" % scores[0])\n",
    "print(\"Test Accuracy: %.2f%%\" % (scores[1] * 100))\n",
    "print(\"Test IoU: %.2f%%\" % (scores[2] * 100))\n",
    "print(\"Test Dice: %.2f%%\" % (scores[3] * 100))"
   ]
  },
  {
   "cell_type": "markdown",
   "metadata": {},
   "source": [
    "## Visualise"
   ]
  },
  {
   "cell_type": "code",
   "execution_count": 13,
   "metadata": {},
   "outputs": [
    {
     "name": "stdout",
     "output_type": "stream",
     "text": [
      "1/1 [==============================] - 0s 49ms/step\n"
     ]
    },
    {
     "data": {
      "image/png": "[encoded data removed]",
      "text/plain": [
       "<Figure size 800x400 with 4 Axes>"
      ]
     },
     "metadata": {},
     "output_type": "display_data"
    }
   ],
   "source": [
    "import matplotlib.pyplot as plt\n",
    "\n",
    "image = all_images[234]  # Original test image\n",
    "true_mask = all_masks[234]  # Ground truth mask\n",
    "\n",
    "pred_mask_unet = model.predict(np.expand_dims(image, axis=0))  # Predict mask\n",
    "pred_mask_unet_binary = (pred_mask_unet > 0.5).astype(int)  # Convert to binary\n",
    "\n",
    "# pred_mask_resnet = model_resnet.predict(np.expand_dims(image, axis=0))  # Predict mask\n",
    "# pred_mask_resnet_binary = (pred_mask_resnet > 0.5).astype(int)  # Convert to binary\n",
    "\n",
    "# Function to visualize image, ground truth mask, and predicted mask\n",
    "plt.figure(figsize=(8, 4))\n",
    "\n",
    "# Original image\n",
    "plt.subplot(2, 2, 1)\n",
    "plt.imshow(image)\n",
    "plt.title(\"Original Image\")\n",
    "plt.axis('off')\n",
    "\n",
    "# Ground truth mask\n",
    "plt.subplot(2, 2, 2)\n",
    "plt.imshow(true_mask.squeeze(), cmap='gray')\n",
    "plt.title(\"Ground Truth Mask\")\n",
    "plt.axis('off')\n",
    "\n",
    "# Predicted mask\n",
    "plt.subplot(2, 2, 3)\n",
    "plt.imshow(pred_mask_unet.squeeze(), cmap='gray')\n",
    "plt.title(\"Predicted Mask UNet\")\n",
    "plt.axis('off')\n",
    "\n",
    "# Predicted mask\n",
    "plt.subplot(2, 2, 4)\n",
    "plt.imshow(pred_mask_unet_binary.squeeze(), cmap='gray')\n",
    "plt.title(\"Predicted Mask Threshold\")\n",
    "plt.axis('off')\n",
    "\n",
    "plt.show()"
   ]
  },
  {
   "cell_type": "markdown",
   "metadata": {},
   "source": [
    "## Save"
   ]
  },
  {
   "cell_type": "code",
   "execution_count": 14,
   "metadata": {},
   "outputs": [],
   "source": [
    "# Save the model\n",
    "model_json = model.to_json()\n",
    "with open('../models_segmentation/SE.json', 'w') as json_file:\n",
    "    json_file.write(model_json)\n",
    "\n",
    "# Saving the model and weights\n",
    "model.save_weights('../models_segmentation/SE.weights.h5')"
   ]
  },
  {
   "cell_type": "code",
   "execution_count": null,
   "metadata": {},
   "outputs": [],
   "source": []
  }
 ],
 "metadata": {
  "kernelspec": {
   "display_name": "tensorflow",
   "language": "python",
   "name": "python3"
  },
  "language_info": {
   "codemirror_mode": {
    "name": "ipython",
    "version": 3
   },
   "file_extension": ".py",
   "mimetype": "text/x-python",
   "name": "python",
   "nbconvert_exporter": "python",
   "pygments_lexer": "ipython3",
   "version": "3.8.19"
  }
 },
 "nbformat": 4,
 "nbformat_minor": 2
}

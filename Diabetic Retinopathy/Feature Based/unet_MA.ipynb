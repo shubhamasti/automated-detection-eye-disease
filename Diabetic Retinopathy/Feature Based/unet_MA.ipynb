{
 "cells": [
  {
   "cell_type": "code",
   "execution_count": 1,
   "metadata": {},
   "outputs": [],
   "source": [
    "import os\n",
    "import cv2\n",
    "import numpy as np\n",
    "import matplotlib.pyplot as plt"
   ]
  },
  {
   "cell_type": "code",
   "execution_count": 2,
   "metadata": {},
   "outputs": [],
   "source": [
    "import tensorflow as tf\n",
    "from keras.preprocessing.image import ImageDataGenerator\n",
    "from tensorflow.keras.preprocessing.image import load_img, img_to_array\n",
    "from tensorflow.keras import layers, models\n",
    "\n",
    "from sklearn.model_selection import train_test_split"
   ]
  },
  {
   "cell_type": "code",
   "execution_count": null,
   "metadata": {},
   "outputs": [],
   "source": [
    "def get_mask(path, target_size):     \n",
    "    image = cv2.imread(path)\n",
    "    image = cv2.resize(image, target_size)\n",
    "    image_rgb = cv2.cvtColor(image, cv2.COLOR_BGR2RGB)\n",
    "\n",
    "    # Convert image to HSV (Hue, Saturation, Value) color space\n",
    "    hsv_image = cv2.cvtColor(image, cv2.COLOR_BGR2HSV)\n",
    "\n",
    "    # Define the red color range for masking\n",
    "    lower_red = np.array([0, 100, 50])\n",
    "    upper_red = np.array([12, 250, 250])\n",
    "    mask1 = cv2.inRange(hsv_image, lower_red, upper_red)\n",
    "\n",
    "    # lower_red2 = np.array([170, 120, 70])\n",
    "    lower_red2 = np.array([10, 60, 70])\n",
    "    upper_red2 = np.array([180, 255, 255])\n",
    "    mask2 = cv2.inRange(hsv_image, lower_red2, upper_red2)\n",
    "    mask2 = cv2.bitwise_not(mask2)\n",
    "\n",
    "    # Combine masks for red\n",
    "    red_mask = mask1 + mask2\n",
    "    \n",
    "    # overlay the mask on the original image\n",
    "    red_mask_3ch = cv2.cvtColor(red_mask, cv2.COLOR_GRAY2BGR)\n",
    "    mask = cv2.addWeighted(image_rgb, 0.7, red_mask_3ch, 0.3, 0)\n",
    "    \n",
    "    return mask\n",
    "\n",
    "def load_data(image_dir, mask_dir, image_size):\n",
    "    images = []\n",
    "    masks = []\n",
    "    \n",
    "    # Loop through all image files\n",
    "    for filename in os.listdir(image_dir):\n",
    "        if filename.endswith(\".jpg\"):\n",
    "            # Get the base name (e.g., 'H0001' from 'H0001.jpg')\n",
    "            base_name = os.path.splitext(filename)[0]\n",
    "            \n",
    "            # Construct the corresponding mask filename\n",
    "            mask_filename = f\"{base_name}.tif\"\n",
    "            \n",
    "            # Check if the corresponding mask exists\n",
    "            img_path = os.path.join(image_dir, filename)\n",
    "            mask_path = os.path.join(mask_dir, mask_filename)\n",
    "        \n",
    "            if os.path.exists(mask_path):\n",
    "                # Load and resize the image and mask\n",
    "                img = get_mask(img_path, target_size=image_size)\n",
    "                mask = load_img(mask_path, target_size=image_size, color_mode=\"grayscale\")\n",
    "                \n",
    "                # Convert to numpy arrays\n",
    "                img_array = img_to_array(img) / 255.0  # Normalize the image between 0 and 1\n",
    "                mask_array = img_to_array(mask) / 255.0  # Mask is binary\n",
    "                \n",
    "                # Append the arrays to the lists\n",
    "                images.append(img_array)\n",
    "                masks.append(mask_array)\n",
    "            else:\n",
    "                print(f\"Skipping {filename} as no corresponding mask was found.\")\n",
    "    \n",
    "    # Convert the lists to numpy arrays\n",
    "    return np.array(images), np.array(masks)\n",
    "\n",
    "def unet_model(input_size=(256, 256, 3)):\n",
    "    inputs = layers.Input(input_size)\n",
    "    \n",
    "    # Encoder\n",
    "    conv1 = layers.Conv2D(64, 3, activation='relu', padding='same')(inputs)\n",
    "    conv1 = layers.Conv2D(64, 3, activation='relu', padding='same')(conv1)\n",
    "    pool1 = layers.MaxPooling2D(pool_size=(2, 2))(conv1)\n",
    "    \n",
    "    conv2 = layers.Conv2D(128, 3, activation='relu', padding='same')(pool1)\n",
    "    conv2 = layers.Conv2D(128, 3, activation='relu', padding='same')(conv2)\n",
    "    pool2 = layers.MaxPooling2D(pool_size=(2, 2))(conv2)\n",
    "    \n",
    "    # Bottleneck\n",
    "    conv3 = layers.Conv2D(256, 3, activation='relu', padding='same')(pool2)\n",
    "    conv3 = layers.Conv2D(256, 3, activation='relu', padding='same')(conv3)\n",
    "    \n",
    "    # Decoder\n",
    "    up1 = layers.UpSampling2D(size=(2, 2))(conv3)\n",
    "    up1 = layers.concatenate([up1, conv2], axis=-1)\n",
    "    conv4 = layers.Conv2D(128, 3, activation='relu', padding='same')(up1)\n",
    "    conv4 = layers.Conv2D(128, 3, activation='relu', padding='same')(conv4)\n",
    "    \n",
    "    up2 = layers.UpSampling2D(size=(2, 2))(conv4)\n",
    "    up2 = layers.concatenate([up2, conv1], axis=-1)\n",
    "    conv5 = layers.Conv2D(64, 3, activation='relu', padding='same')(up2)\n",
    "    conv5 = layers.Conv2D(64, 3, activation='relu', padding='same')(conv5)\n",
    "    \n",
    "    outputs = layers.Conv2D(1, 1, activation='sigmoid')(conv5)  # Sigmoid for binary classification\n",
    "    \n",
    "    model = models.Model(inputs=[inputs], outputs=[outputs])\n",
    "    return model\n",
    "\n",
    "# Dice Loss function\n",
    "def dice_loss(y_true, y_pred):\n",
    "    numerator = 2 * tf.reduce_sum(y_true * y_pred)\n",
    "    denominator = tf.reduce_sum(y_true + y_pred)\n",
    "    return 1 - numerator / denominator\n",
    "\n",
    "# Combined BCE and Dice Loss\n",
    "def combined_bce_dice_loss(y_true, y_pred):\n",
    "    bce_loss = tf.keras.losses.BinaryCrossentropy()(y_true, y_pred)\n",
    "    d_loss = dice_loss(y_true, y_pred)\n",
    "    return bce_loss + d_loss\n",
    "\n",
    "# using tf\n",
    "def iou_metric(y_true, y_pred):\n",
    "    # Convert predicted mask probabilities to binary (0 or 1)\n",
    "    y_pred = tf.round(y_pred)\n",
    "\n",
    "    intersection = tf.reduce_sum(y_true * y_pred)\n",
    "    union = tf.reduce_sum(y_true) + tf.reduce_sum(y_pred) - intersection\n",
    "    iou = intersection / (union + tf.keras.backend.epsilon())\n",
    "    return iou\n",
    "\n",
    "def dice_coefficient(y_true, y_pred):\n",
    "    # Convert predicted mask probabilities to binary (0 or 1)\n",
    "    y_pred = tf.round(y_pred)\n",
    "\n",
    "    intersection = tf.reduce_sum(y_true * y_pred)\n",
    "    dice = (2. * intersection) / (tf.reduce_sum(y_true) + tf.reduce_sum(y_pred) + tf.keras.backend.epsilon())\n",
    "    return dice"
   ]
  },
  {
   "cell_type": "code",
   "execution_count": 4,
   "metadata": {},
   "outputs": [
    {
     "name": "stdout",
     "output_type": "stream",
     "text": [
      "Metal device set to: Apple M2 Pro\n",
      "\n",
      "systemMemory: 16.00 GB\n",
      "maxCacheSize: 5.33 GB\n",
      "\n"
     ]
    },
    {
     "name": "stderr",
     "output_type": "stream",
     "text": [
      "2024-11-12 12:05:31.164485: I tensorflow/core/common_runtime/pluggable_device/pluggable_device_factory.cc:305] Could not identify NUMA node of platform GPU ID 0, defaulting to 0. Your kernel may not have been built with NUMA support.\n",
      "2024-11-12 12:05:31.165131: I tensorflow/core/common_runtime/pluggable_device/pluggable_device_factory.cc:271] Created TensorFlow device (/job:localhost/replica:0/task:0/device:GPU:0 with 0 MB memory) -> physical PluggableDevice (device: 0, name: METAL, pci bus id: <undefined>)\n"
     ]
    }
   ],
   "source": [
    "model = unet_model(input_size=(256, 256, 3))\n",
    "# model.compile(optimizer='adam', loss='binary_crossentropy', metrics=['accuracy', iou_metric, dice_coefficient])\n",
    "model.compile(optimizer='adam', loss=combined_bce_dice_loss, metrics=['accuracy', iou_metric, dice_coefficient])"
   ]
  },
  {
   "cell_type": "code",
   "execution_count": 5,
   "metadata": {},
   "outputs": [
    {
     "name": "stdout",
     "output_type": "stream",
     "text": [
      "Model: \"model\"\n",
      "__________________________________________________________________________________________________\n",
      " Layer (type)                   Output Shape         Param #     Connected to                     \n",
      "==================================================================================================\n",
      " input_1 (InputLayer)           [(None, 256, 256, 3  0           []                               \n",
      "                                )]                                                                \n",
      "                                                                                                  \n",
      " conv2d (Conv2D)                (None, 256, 256, 64  1792        ['input_1[0][0]']                \n",
      "                                )                                                                 \n",
      "                                                                                                  \n",
      " conv2d_1 (Conv2D)              (None, 256, 256, 64  36928       ['conv2d[0][0]']                 \n",
      "                                )                                                                 \n",
      "                                                                                                  \n",
      " max_pooling2d (MaxPooling2D)   (None, 128, 128, 64  0           ['conv2d_1[0][0]']               \n",
      "                                )                                                                 \n",
      "                                                                                                  \n",
      " conv2d_2 (Conv2D)              (None, 128, 128, 12  73856       ['max_pooling2d[0][0]']          \n",
      "                                8)                                                                \n",
      "                                                                                                  \n",
      " conv2d_3 (Conv2D)              (None, 128, 128, 12  147584      ['conv2d_2[0][0]']               \n",
      "                                8)                                                                \n",
      "                                                                                                  \n",
      " max_pooling2d_1 (MaxPooling2D)  (None, 64, 64, 128)  0          ['conv2d_3[0][0]']               \n",
      "                                                                                                  \n",
      " conv2d_4 (Conv2D)              (None, 64, 64, 256)  295168      ['max_pooling2d_1[0][0]']        \n",
      "                                                                                                  \n",
      " conv2d_5 (Conv2D)              (None, 64, 64, 256)  590080      ['conv2d_4[0][0]']               \n",
      "                                                                                                  \n",
      " up_sampling2d (UpSampling2D)   (None, 128, 128, 25  0           ['conv2d_5[0][0]']               \n",
      "                                6)                                                                \n",
      "                                                                                                  \n",
      " concatenate (Concatenate)      (None, 128, 128, 38  0           ['up_sampling2d[0][0]',          \n",
      "                                4)                                'conv2d_3[0][0]']               \n",
      "                                                                                                  \n",
      " conv2d_6 (Conv2D)              (None, 128, 128, 12  442496      ['concatenate[0][0]']            \n",
      "                                8)                                                                \n",
      "                                                                                                  \n",
      " conv2d_7 (Conv2D)              (None, 128, 128, 12  147584      ['conv2d_6[0][0]']               \n",
      "                                8)                                                                \n",
      "                                                                                                  \n",
      " up_sampling2d_1 (UpSampling2D)  (None, 256, 256, 12  0          ['conv2d_7[0][0]']               \n",
      "                                8)                                                                \n",
      "                                                                                                  \n",
      " concatenate_1 (Concatenate)    (None, 256, 256, 19  0           ['up_sampling2d_1[0][0]',        \n",
      "                                2)                                'conv2d_1[0][0]']               \n",
      "                                                                                                  \n",
      " conv2d_8 (Conv2D)              (None, 256, 256, 64  110656      ['concatenate_1[0][0]']          \n",
      "                                )                                                                 \n",
      "                                                                                                  \n",
      " conv2d_9 (Conv2D)              (None, 256, 256, 64  36928       ['conv2d_8[0][0]']               \n",
      "                                )                                                                 \n",
      "                                                                                                  \n",
      " conv2d_10 (Conv2D)             (None, 256, 256, 1)  65          ['conv2d_9[0][0]']               \n",
      "                                                                                                  \n",
      "==================================================================================================\n",
      "Total params: 1,883,137\n",
      "Trainable params: 1,883,137\n",
      "Non-trainable params: 0\n",
      "__________________________________________________________________________________________________\n"
     ]
    }
   ],
   "source": [
    "model.summary()"
   ]
  },
  {
   "cell_type": "code",
   "execution_count": 6,
   "metadata": {},
   "outputs": [],
   "source": [
    "# Directories for images and masks\n",
    "image_dir = \"path/to/augmented/dir/MAAugmented/Images\"\n",
    "mask_dir = \"path/to/augmented/dir/MAAugmented/Masks\"\n",
    "\n",
    "# Image size (height, width, channels)\n",
    "image_size = (256, 256)\n",
    "\n",
    "all_images, all_masks = load_data(image_dir, mask_dir, image_size)"
   ]
  },
  {
   "cell_type": "code",
   "execution_count": 7,
   "metadata": {},
   "outputs": [
    {
     "data": {
      "text/plain": [
       "(749, 749)"
      ]
     },
     "execution_count": 7,
     "metadata": {},
     "output_type": "execute_result"
    }
   ],
   "source": [
    "len(all_images), len(all_masks)"
   ]
  },
  {
   "cell_type": "code",
   "execution_count": 8,
   "metadata": {},
   "outputs": [],
   "source": [
    "# Split into training and test sets (80% train, 20% test)\n",
    "train_images, test_images, train_masks, test_masks = train_test_split(\n",
    "    all_images, all_masks, test_size=0.2, random_state=42\n",
    ")\n",
    "\n",
    "# split train set into training and validation sets (90% train, 10% validation)\n",
    "train_images, val_images, train_masks, val_masks = train_test_split(\n",
    "    train_images, train_masks, test_size=0.1, random_state=42\n",
    ")"
   ]
  },
  {
   "cell_type": "code",
   "execution_count": 9,
   "metadata": {},
   "outputs": [
    {
     "name": "stdout",
     "output_type": "stream",
     "text": [
      "Epoch 1/75\n"
     ]
    },
    {
     "name": "stderr",
     "output_type": "stream",
     "text": [
      "2024-11-12 12:06:34.501360: W tensorflow/core/platform/profile_utils/cpu_utils.cc:128] Failed to get CPU frequency: 0 Hz\n",
      "2024-11-12 12:06:35.091630: I tensorflow/core/grappler/optimizers/custom_graph_optimizer_registry.cc:113] Plugin optimizer for device_type GPU is enabled.\n"
     ]
    },
    {
     "name": "stdout",
     "output_type": "stream",
     "text": [
      "33/33 [==============================] - ETA: 0s - loss: 1.0657 - accuracy: 0.9720 - iou_metric: 4.7311e-06 - dice_coefficient: 9.4606e-06"
     ]
    },
    {
     "name": "stderr",
     "output_type": "stream",
     "text": [
      "2024-11-12 12:07:16.761099: I tensorflow/core/grappler/optimizers/custom_graph_optimizer_registry.cc:113] Plugin optimizer for device_type GPU is enabled.\n"
     ]
    },
    {
     "name": "stdout",
     "output_type": "stream",
     "text": [
      "33/33 [==============================] - 45s 1s/step - loss: 1.0657 - accuracy: 0.9720 - iou_metric: 4.7311e-06 - dice_coefficient: 9.4606e-06 - val_loss: 1.0051 - val_accuracy: 0.9997 - val_iou_metric: 0.0000e+00 - val_dice_coefficient: 0.0000e+00\n",
      "Epoch 2/75\n",
      "33/33 [==============================] - 41s 1s/step - loss: 1.0034 - accuracy: 0.9997 - iou_metric: 0.0000e+00 - dice_coefficient: 0.0000e+00 - val_loss: 1.0034 - val_accuracy: 0.9997 - val_iou_metric: 0.0000e+00 - val_dice_coefficient: 0.0000e+00\n",
      "Epoch 3/75\n",
      "33/33 [==============================] - 41s 1s/step - loss: 1.0021 - accuracy: 0.9997 - iou_metric: 0.0000e+00 - dice_coefficient: 0.0000e+00 - val_loss: 1.0024 - val_accuracy: 0.9997 - val_iou_metric: 0.0000e+00 - val_dice_coefficient: 0.0000e+00\n",
      "Epoch 4/75\n",
      "33/33 [==============================] - 40s 1s/step - loss: 1.0019 - accuracy: 0.9997 - iou_metric: 0.0000e+00 - dice_coefficient: 0.0000e+00 - val_loss: 1.0028 - val_accuracy: 0.9997 - val_iou_metric: 0.0000e+00 - val_dice_coefficient: 0.0000e+00\n",
      "Epoch 5/75\n",
      "33/33 [==============================] - 39s 1s/step - loss: 1.0020 - accuracy: 0.9997 - iou_metric: 0.0000e+00 - dice_coefficient: 0.0000e+00 - val_loss: 1.0021 - val_accuracy: 0.9997 - val_iou_metric: 0.0000e+00 - val_dice_coefficient: 0.0000e+00\n",
      "Epoch 6/75\n",
      "33/33 [==============================] - 40s 1s/step - loss: 1.0017 - accuracy: 0.9997 - iou_metric: 0.0000e+00 - dice_coefficient: 0.0000e+00 - val_loss: 1.0022 - val_accuracy: 0.9997 - val_iou_metric: 0.0000e+00 - val_dice_coefficient: 0.0000e+00\n",
      "Epoch 7/75\n",
      "33/33 [==============================] - 38s 1s/step - loss: 1.0017 - accuracy: 0.9998 - iou_metric: 0.0000e+00 - dice_coefficient: 0.0000e+00 - val_loss: 1.0021 - val_accuracy: 0.9997 - val_iou_metric: 0.0000e+00 - val_dice_coefficient: 0.0000e+00\n",
      "Epoch 8/75\n",
      "33/33 [==============================] - 42s 1s/step - loss: 1.0020 - accuracy: 0.9997 - iou_metric: 0.0000e+00 - dice_coefficient: 0.0000e+00 - val_loss: 1.0020 - val_accuracy: 0.9997 - val_iou_metric: 0.0000e+00 - val_dice_coefficient: 0.0000e+00\n",
      "Epoch 9/75\n",
      "33/33 [==============================] - 41s 1s/step - loss: 1.0016 - accuracy: 0.9998 - iou_metric: 0.0000e+00 - dice_coefficient: 0.0000e+00 - val_loss: 1.0020 - val_accuracy: 0.9997 - val_iou_metric: 0.0000e+00 - val_dice_coefficient: 0.0000e+00\n",
      "Epoch 10/75\n",
      "33/33 [==============================] - 41s 1s/step - loss: 1.0016 - accuracy: 0.9997 - iou_metric: 0.0000e+00 - dice_coefficient: 0.0000e+00 - val_loss: 1.0019 - val_accuracy: 0.9997 - val_iou_metric: 0.0000e+00 - val_dice_coefficient: 0.0000e+00\n",
      "Epoch 11/75\n",
      "33/33 [==============================] - 38s 1s/step - loss: 1.0019 - accuracy: 0.9997 - iou_metric: 0.0000e+00 - dice_coefficient: 0.0000e+00 - val_loss: 1.0021 - val_accuracy: 0.9997 - val_iou_metric: 0.0000e+00 - val_dice_coefficient: 0.0000e+00\n",
      "Epoch 12/75\n",
      "33/33 [==============================] - 38s 1s/step - loss: 1.0016 - accuracy: 0.9998 - iou_metric: 0.0000e+00 - dice_coefficient: 0.0000e+00 - val_loss: 1.0019 - val_accuracy: 0.9997 - val_iou_metric: 0.0000e+00 - val_dice_coefficient: 0.0000e+00\n",
      "Epoch 13/75\n",
      "33/33 [==============================] - 39s 1s/step - loss: 1.0017 - accuracy: 0.9997 - iou_metric: 0.0000e+00 - dice_coefficient: 0.0000e+00 - val_loss: 1.0021 - val_accuracy: 0.9997 - val_iou_metric: 0.0000e+00 - val_dice_coefficient: 0.0000e+00\n",
      "Epoch 14/75\n",
      "33/33 [==============================] - 40s 1s/step - loss: 1.0017 - accuracy: 0.9997 - iou_metric: 0.0000e+00 - dice_coefficient: 0.0000e+00 - val_loss: 1.0021 - val_accuracy: 0.9997 - val_iou_metric: 0.0000e+00 - val_dice_coefficient: 0.0000e+00\n",
      "Epoch 15/75\n",
      "33/33 [==============================] - 39s 1s/step - loss: 1.0017 - accuracy: 0.9998 - iou_metric: 0.0000e+00 - dice_coefficient: 0.0000e+00 - val_loss: 1.0021 - val_accuracy: 0.9997 - val_iou_metric: 0.0000e+00 - val_dice_coefficient: 0.0000e+00\n",
      "Epoch 16/75\n",
      "33/33 [==============================] - 38s 1s/step - loss: 1.0018 - accuracy: 0.9997 - iou_metric: 0.0000e+00 - dice_coefficient: 0.0000e+00 - val_loss: 1.0019 - val_accuracy: 0.9997 - val_iou_metric: 0.0000e+00 - val_dice_coefficient: 0.0000e+00\n",
      "Epoch 17/75\n",
      "33/33 [==============================] - 38s 1s/step - loss: 1.0015 - accuracy: 0.9998 - iou_metric: 0.0000e+00 - dice_coefficient: 0.0000e+00 - val_loss: 1.0018 - val_accuracy: 0.9997 - val_iou_metric: 0.0000e+00 - val_dice_coefficient: 0.0000e+00\n",
      "Epoch 18/75\n",
      "33/33 [==============================] - 38s 1s/step - loss: 1.0016 - accuracy: 0.9997 - iou_metric: 0.0000e+00 - dice_coefficient: 0.0000e+00 - val_loss: 1.0020 - val_accuracy: 0.9997 - val_iou_metric: 0.0000e+00 - val_dice_coefficient: 0.0000e+00\n",
      "Epoch 19/75\n",
      "33/33 [==============================] - 38s 1s/step - loss: 1.0017 - accuracy: 0.9997 - iou_metric: 0.0000e+00 - dice_coefficient: 0.0000e+00 - val_loss: 1.0020 - val_accuracy: 0.9997 - val_iou_metric: 0.0000e+00 - val_dice_coefficient: 0.0000e+00\n",
      "Epoch 20/75\n",
      "33/33 [==============================] - 44s 1s/step - loss: 1.0017 - accuracy: 0.9997 - iou_metric: 0.0000e+00 - dice_coefficient: 0.0000e+00 - val_loss: 1.0019 - val_accuracy: 0.9997 - val_iou_metric: 0.0000e+00 - val_dice_coefficient: 0.0000e+00\n",
      "Epoch 21/75\n",
      "33/33 [==============================] - 40s 1s/step - loss: 1.0017 - accuracy: 0.9997 - iou_metric: 0.0000e+00 - dice_coefficient: 0.0000e+00 - val_loss: 1.0019 - val_accuracy: 0.9997 - val_iou_metric: 0.0000e+00 - val_dice_coefficient: 0.0000e+00\n",
      "Epoch 22/75\n",
      "33/33 [==============================] - 43s 1s/step - loss: 1.0017 - accuracy: 0.9997 - iou_metric: 0.0000e+00 - dice_coefficient: 0.0000e+00 - val_loss: 1.0020 - val_accuracy: 0.9997 - val_iou_metric: 0.0000e+00 - val_dice_coefficient: 0.0000e+00\n",
      "Epoch 23/75\n",
      "33/33 [==============================] - 43s 1s/step - loss: 1.0017 - accuracy: 0.9998 - iou_metric: 0.0000e+00 - dice_coefficient: 0.0000e+00 - val_loss: 1.0025 - val_accuracy: 0.9997 - val_iou_metric: 0.0000e+00 - val_dice_coefficient: 0.0000e+00\n",
      "Epoch 24/75\n",
      "33/33 [==============================] - 44s 1s/step - loss: 1.0017 - accuracy: 0.9997 - iou_metric: 0.0000e+00 - dice_coefficient: 0.0000e+00 - val_loss: 1.0020 - val_accuracy: 0.9997 - val_iou_metric: 0.0000e+00 - val_dice_coefficient: 0.0000e+00\n",
      "Epoch 25/75\n",
      "33/33 [==============================] - 42s 1s/step - loss: 1.0016 - accuracy: 0.9997 - iou_metric: 0.0000e+00 - dice_coefficient: 0.0000e+00 - val_loss: 1.0019 - val_accuracy: 0.9997 - val_iou_metric: 0.0000e+00 - val_dice_coefficient: 0.0000e+00\n",
      "Epoch 26/75\n",
      "33/33 [==============================] - 41s 1s/step - loss: 1.0017 - accuracy: 0.9997 - iou_metric: 0.0000e+00 - dice_coefficient: 0.0000e+00 - val_loss: 1.0018 - val_accuracy: 0.9997 - val_iou_metric: 0.0000e+00 - val_dice_coefficient: 0.0000e+00\n",
      "Epoch 27/75\n",
      "33/33 [==============================] - 41s 1s/step - loss: 1.0016 - accuracy: 0.9998 - iou_metric: 0.0000e+00 - dice_coefficient: 0.0000e+00 - val_loss: 1.0020 - val_accuracy: 0.9997 - val_iou_metric: 0.0000e+00 - val_dice_coefficient: 0.0000e+00\n",
      "Epoch 28/75\n",
      "33/33 [==============================] - 40s 1s/step - loss: 1.0017 - accuracy: 0.9997 - iou_metric: 0.0000e+00 - dice_coefficient: 0.0000e+00 - val_loss: 1.0018 - val_accuracy: 0.9997 - val_iou_metric: 0.0000e+00 - val_dice_coefficient: 0.0000e+00\n",
      "Epoch 29/75\n",
      "33/33 [==============================] - 42s 1s/step - loss: 1.0016 - accuracy: 0.9997 - iou_metric: 0.0000e+00 - dice_coefficient: 0.0000e+00 - val_loss: 1.0019 - val_accuracy: 0.9997 - val_iou_metric: 0.0000e+00 - val_dice_coefficient: 0.0000e+00\n",
      "Epoch 30/75\n",
      "33/33 [==============================] - 46s 1s/step - loss: 1.0016 - accuracy: 0.9997 - iou_metric: 0.0000e+00 - dice_coefficient: 0.0000e+00 - val_loss: 1.0018 - val_accuracy: 0.9997 - val_iou_metric: 0.0000e+00 - val_dice_coefficient: 0.0000e+00\n",
      "Epoch 31/75\n",
      "33/33 [==============================] - 41s 1s/step - loss: 1.0017 - accuracy: 0.9997 - iou_metric: 0.0000e+00 - dice_coefficient: 0.0000e+00 - val_loss: 1.0020 - val_accuracy: 0.9997 - val_iou_metric: 0.0000e+00 - val_dice_coefficient: 0.0000e+00\n",
      "Epoch 32/75\n",
      "33/33 [==============================] - 39s 1s/step - loss: 1.0017 - accuracy: 0.9997 - iou_metric: 0.0000e+00 - dice_coefficient: 0.0000e+00 - val_loss: 1.0019 - val_accuracy: 0.9997 - val_iou_metric: 0.0000e+00 - val_dice_coefficient: 0.0000e+00\n",
      "Epoch 33/75\n",
      "33/33 [==============================] - 42s 1s/step - loss: 1.0016 - accuracy: 0.9997 - iou_metric: 0.0000e+00 - dice_coefficient: 0.0000e+00 - val_loss: 1.0019 - val_accuracy: 0.9997 - val_iou_metric: 0.0000e+00 - val_dice_coefficient: 0.0000e+00\n",
      "Epoch 34/75\n",
      "33/33 [==============================] - 47s 1s/step - loss: 1.0016 - accuracy: 0.9997 - iou_metric: 0.0000e+00 - dice_coefficient: 0.0000e+00 - val_loss: 1.0019 - val_accuracy: 0.9997 - val_iou_metric: 0.0000e+00 - val_dice_coefficient: 0.0000e+00\n",
      "Epoch 35/75\n",
      "33/33 [==============================] - 44s 1s/step - loss: 1.0017 - accuracy: 0.9997 - iou_metric: 0.0000e+00 - dice_coefficient: 0.0000e+00 - val_loss: 1.0020 - val_accuracy: 0.9997 - val_iou_metric: 0.0000e+00 - val_dice_coefficient: 0.0000e+00\n",
      "Epoch 36/75\n",
      "33/33 [==============================] - 40s 1s/step - loss: 1.0016 - accuracy: 0.9997 - iou_metric: 0.0000e+00 - dice_coefficient: 0.0000e+00 - val_loss: 1.0018 - val_accuracy: 0.9997 - val_iou_metric: 0.0000e+00 - val_dice_coefficient: 0.0000e+00\n",
      "Epoch 37/75\n",
      "33/33 [==============================] - 40s 1s/step - loss: 1.0016 - accuracy: 0.9997 - iou_metric: 0.0000e+00 - dice_coefficient: 0.0000e+00 - val_loss: 1.0018 - val_accuracy: 0.9997 - val_iou_metric: 0.0000e+00 - val_dice_coefficient: 0.0000e+00\n",
      "Epoch 38/75\n",
      "33/33 [==============================] - 43s 1s/step - loss: 1.0015 - accuracy: 0.9998 - iou_metric: 0.0000e+00 - dice_coefficient: 0.0000e+00 - val_loss: 1.0018 - val_accuracy: 0.9997 - val_iou_metric: 0.0000e+00 - val_dice_coefficient: 0.0000e+00\n",
      "Epoch 39/75\n",
      "33/33 [==============================] - 40s 1s/step - loss: 1.0016 - accuracy: 0.9997 - iou_metric: 0.0000e+00 - dice_coefficient: 0.0000e+00 - val_loss: 1.0017 - val_accuracy: 0.9997 - val_iou_metric: 0.0000e+00 - val_dice_coefficient: 0.0000e+00\n",
      "Epoch 40/75\n",
      "33/33 [==============================] - 41s 1s/step - loss: 1.0016 - accuracy: 0.9997 - iou_metric: 0.0000e+00 - dice_coefficient: 0.0000e+00 - val_loss: 1.0017 - val_accuracy: 0.9997 - val_iou_metric: 0.0000e+00 - val_dice_coefficient: 0.0000e+00\n",
      "Epoch 41/75\n",
      "33/33 [==============================] - 45s 1s/step - loss: 1.0015 - accuracy: 0.9997 - iou_metric: 0.0000e+00 - dice_coefficient: 0.0000e+00 - val_loss: 1.0016 - val_accuracy: 0.9997 - val_iou_metric: 0.0000e+00 - val_dice_coefficient: 0.0000e+00\n",
      "Epoch 42/75\n",
      "33/33 [==============================] - 46s 1s/step - loss: 1.0013 - accuracy: 0.9997 - iou_metric: 0.0000e+00 - dice_coefficient: 0.0000e+00 - val_loss: 1.0013 - val_accuracy: 0.9997 - val_iou_metric: 0.0000e+00 - val_dice_coefficient: 0.0000e+00\n",
      "Epoch 43/75\n",
      "33/33 [==============================] - 44s 1s/step - loss: 1.0017 - accuracy: 0.9997 - iou_metric: 0.0000e+00 - dice_coefficient: 0.0000e+00 - val_loss: 1.0020 - val_accuracy: 0.9997 - val_iou_metric: 0.0000e+00 - val_dice_coefficient: 0.0000e+00\n",
      "Epoch 44/75\n",
      "33/33 [==============================] - 40s 1s/step - loss: 1.0015 - accuracy: 0.9997 - iou_metric: 0.0000e+00 - dice_coefficient: 0.0000e+00 - val_loss: 1.0008 - val_accuracy: 0.9997 - val_iou_metric: 0.0000e+00 - val_dice_coefficient: 0.0000e+00\n",
      "Epoch 45/75\n",
      "33/33 [==============================] - 39s 1s/step - loss: 1.0008 - accuracy: 0.9997 - iou_metric: 0.0000e+00 - dice_coefficient: 0.0000e+00 - val_loss: 1.0022 - val_accuracy: 0.9997 - val_iou_metric: 0.0000e+00 - val_dice_coefficient: 0.0000e+00\n",
      "Epoch 46/75\n",
      "33/33 [==============================] - 39s 1s/step - loss: 1.0013 - accuracy: 0.9997 - iou_metric: 7.1868e-04 - dice_coefficient: 0.0014 - val_loss: 1.0001 - val_accuracy: 0.9997 - val_iou_metric: 0.0000e+00 - val_dice_coefficient: 0.0000e+00\n",
      "Epoch 47/75\n",
      "33/33 [==============================] - 43s 1s/step - loss: 0.9994 - accuracy: 0.9995 - iou_metric: 0.0023 - dice_coefficient: 0.0046 - val_loss: 1.0014 - val_accuracy: 0.9997 - val_iou_metric: 0.0000e+00 - val_dice_coefficient: 0.0000e+00\n",
      "Epoch 48/75\n",
      "33/33 [==============================] - 41s 1s/step - loss: 0.9993 - accuracy: 0.9994 - iou_metric: 0.0029 - dice_coefficient: 0.0058 - val_loss: 1.0055 - val_accuracy: 0.9997 - val_iou_metric: 0.0000e+00 - val_dice_coefficient: 0.0000e+00\n",
      "Epoch 49/75\n",
      "33/33 [==============================] - 39s 1s/step - loss: 0.9991 - accuracy: 0.9991 - iou_metric: 0.0036 - dice_coefficient: 0.0072 - val_loss: 1.0053 - val_accuracy: 0.9997 - val_iou_metric: 0.0000e+00 - val_dice_coefficient: 0.0000e+00\n",
      "Epoch 50/75\n",
      "33/33 [==============================] - 42s 1s/step - loss: 0.9969 - accuracy: 0.9994 - iou_metric: 0.0043 - dice_coefficient: 0.0085 - val_loss: 0.9998 - val_accuracy: 0.9996 - val_iou_metric: 8.3893e-04 - val_dice_coefficient: 0.0017\n",
      "Epoch 51/75\n",
      "33/33 [==============================] - 40s 1s/step - loss: 0.9956 - accuracy: 0.9994 - iou_metric: 0.0048 - dice_coefficient: 0.0096 - val_loss: 0.9989 - val_accuracy: 0.9995 - val_iou_metric: 0.0020 - val_dice_coefficient: 0.0040\n",
      "Epoch 52/75\n",
      "33/33 [==============================] - 40s 1s/step - loss: 0.9950 - accuracy: 0.9993 - iou_metric: 0.0055 - dice_coefficient: 0.0108 - val_loss: 0.9907 - val_accuracy: 0.9993 - val_iou_metric: 0.0076 - val_dice_coefficient: 0.0148\n",
      "Epoch 53/75\n",
      "33/33 [==============================] - 41s 1s/step - loss: 0.9947 - accuracy: 0.9993 - iou_metric: 0.0055 - dice_coefficient: 0.0108 - val_loss: 1.0046 - val_accuracy: 0.9997 - val_iou_metric: 0.0000e+00 - val_dice_coefficient: 0.0000e+00\n",
      "Epoch 54/75\n",
      "33/33 [==============================] - 42s 1s/step - loss: 0.9916 - accuracy: 0.9993 - iou_metric: 0.0072 - dice_coefficient: 0.0142 - val_loss: 0.9930 - val_accuracy: 0.9986 - val_iou_metric: 0.0067 - val_dice_coefficient: 0.0132\n",
      "Epoch 55/75\n",
      "33/33 [==============================] - 39s 1s/step - loss: 0.9912 - accuracy: 0.9993 - iou_metric: 0.0073 - dice_coefficient: 0.0144 - val_loss: 0.9942 - val_accuracy: 0.9994 - val_iou_metric: 0.0047 - val_dice_coefficient: 0.0094\n",
      "Epoch 56/75\n",
      "33/33 [==============================] - 41s 1s/step - loss: 0.9913 - accuracy: 0.9992 - iou_metric: 0.0074 - dice_coefficient: 0.0145 - val_loss: 0.9895 - val_accuracy: 0.9992 - val_iou_metric: 0.0091 - val_dice_coefficient: 0.0178\n",
      "Epoch 57/75\n",
      "33/33 [==============================] - 43s 1s/step - loss: 0.9924 - accuracy: 0.9993 - iou_metric: 0.0074 - dice_coefficient: 0.0147 - val_loss: 0.9894 - val_accuracy: 0.9994 - val_iou_metric: 0.0075 - val_dice_coefficient: 0.0148\n",
      "Epoch 58/75\n",
      "33/33 [==============================] - 41s 1s/step - loss: 0.9923 - accuracy: 0.9994 - iou_metric: 0.0066 - dice_coefficient: 0.0130 - val_loss: 0.9914 - val_accuracy: 0.9989 - val_iou_metric: 0.0075 - val_dice_coefficient: 0.0148\n",
      "Epoch 59/75\n",
      "33/33 [==============================] - 42s 1s/step - loss: 0.9907 - accuracy: 0.9992 - iou_metric: 0.0081 - dice_coefficient: 0.0161 - val_loss: 0.9908 - val_accuracy: 0.9994 - val_iou_metric: 0.0071 - val_dice_coefficient: 0.0140\n",
      "Epoch 60/75\n",
      "33/33 [==============================] - 41s 1s/step - loss: 0.9886 - accuracy: 0.9992 - iou_metric: 0.0090 - dice_coefficient: 0.0178 - val_loss: 0.9899 - val_accuracy: 0.9993 - val_iou_metric: 0.0069 - val_dice_coefficient: 0.0136\n",
      "Epoch 61/75\n",
      "33/33 [==============================] - 41s 1s/step - loss: 0.9890 - accuracy: 0.9994 - iou_metric: 0.0083 - dice_coefficient: 0.0164 - val_loss: 0.9908 - val_accuracy: 0.9994 - val_iou_metric: 0.0079 - val_dice_coefficient: 0.0155\n",
      "Epoch 62/75\n",
      "33/33 [==============================] - 41s 1s/step - loss: 0.9854 - accuracy: 0.9994 - iou_metric: 0.0108 - dice_coefficient: 0.0212 - val_loss: 0.9906 - val_accuracy: 0.9993 - val_iou_metric: 0.0075 - val_dice_coefficient: 0.0147\n",
      "Epoch 63/75\n",
      "33/33 [==============================] - 44s 1s/step - loss: 0.9877 - accuracy: 0.9995 - iou_metric: 0.0090 - dice_coefficient: 0.0177 - val_loss: 0.9919 - val_accuracy: 0.9995 - val_iou_metric: 0.0074 - val_dice_coefficient: 0.0145\n",
      "Epoch 64/75\n",
      "33/33 [==============================] - 46s 1s/step - loss: 0.9867 - accuracy: 0.9994 - iou_metric: 0.0099 - dice_coefficient: 0.0195 - val_loss: 0.9894 - val_accuracy: 0.9992 - val_iou_metric: 0.0080 - val_dice_coefficient: 0.0157\n",
      "Epoch 65/75\n",
      "33/33 [==============================] - 40s 1s/step - loss: 0.9873 - accuracy: 0.9995 - iou_metric: 0.0091 - dice_coefficient: 0.0180 - val_loss: 0.9902 - val_accuracy: 0.9995 - val_iou_metric: 0.0070 - val_dice_coefficient: 0.0137\n",
      "Epoch 66/75\n",
      "33/33 [==============================] - 48s 1s/step - loss: 0.9854 - accuracy: 0.9994 - iou_metric: 0.0100 - dice_coefficient: 0.0197 - val_loss: 0.9902 - val_accuracy: 0.9994 - val_iou_metric: 0.0072 - val_dice_coefficient: 0.0142\n",
      "Epoch 67/75\n",
      "33/33 [==============================] - 47s 1s/step - loss: 0.9846 - accuracy: 0.9995 - iou_metric: 0.0107 - dice_coefficient: 0.0211 - val_loss: 0.9917 - val_accuracy: 0.9995 - val_iou_metric: 0.0072 - val_dice_coefficient: 0.0142\n",
      "Epoch 68/75\n",
      "33/33 [==============================] - 40s 1s/step - loss: 0.9846 - accuracy: 0.9994 - iou_metric: 0.0110 - dice_coefficient: 0.0216 - val_loss: 0.9940 - val_accuracy: 0.9996 - val_iou_metric: 0.0043 - val_dice_coefficient: 0.0085\n",
      "Epoch 69/75\n",
      "33/33 [==============================] - 40s 1s/step - loss: 0.9859 - accuracy: 0.9994 - iou_metric: 0.0103 - dice_coefficient: 0.0203 - val_loss: 0.9910 - val_accuracy: 0.9993 - val_iou_metric: 0.0069 - val_dice_coefficient: 0.0136\n",
      "Epoch 70/75\n",
      "33/33 [==============================] - 38s 1s/step - loss: 0.9853 - accuracy: 0.9995 - iou_metric: 0.0104 - dice_coefficient: 0.0205 - val_loss: 0.9887 - val_accuracy: 0.9994 - val_iou_metric: 0.0078 - val_dice_coefficient: 0.0153\n",
      "Epoch 71/75\n",
      "33/33 [==============================] - 40s 1s/step - loss: 0.9842 - accuracy: 0.9995 - iou_metric: 0.0109 - dice_coefficient: 0.0214 - val_loss: 0.9917 - val_accuracy: 0.9995 - val_iou_metric: 0.0065 - val_dice_coefficient: 0.0128\n",
      "Epoch 72/75\n",
      "33/33 [==============================] - 39s 1s/step - loss: 0.9824 - accuracy: 0.9995 - iou_metric: 0.0115 - dice_coefficient: 0.0226 - val_loss: 0.9909 - val_accuracy: 0.9993 - val_iou_metric: 0.0075 - val_dice_coefficient: 0.0147\n",
      "Epoch 73/75\n",
      "33/33 [==============================] - 41s 1s/step - loss: 0.9836 - accuracy: 0.9995 - iou_metric: 0.0115 - dice_coefficient: 0.0225 - val_loss: 0.9909 - val_accuracy: 0.9991 - val_iou_metric: 0.0080 - val_dice_coefficient: 0.0157\n",
      "Epoch 74/75\n",
      "33/33 [==============================] - 40s 1s/step - loss: 0.9881 - accuracy: 0.9994 - iou_metric: 0.0086 - dice_coefficient: 0.0170 - val_loss: 0.9915 - val_accuracy: 0.9995 - val_iou_metric: 0.0071 - val_dice_coefficient: 0.0140\n",
      "Epoch 75/75\n",
      "33/33 [==============================] - 37s 1s/step - loss: 0.9834 - accuracy: 0.9994 - iou_metric: 0.0115 - dice_coefficient: 0.0227 - val_loss: 0.9886 - val_accuracy: 0.9993 - val_iou_metric: 0.0080 - val_dice_coefficient: 0.0157\n"
     ]
    }
   ],
   "source": [
    "history = model.fit(train_images, train_masks, epochs=75,\n",
    "                    batch_size=16, verbose=1, steps_per_epoch=len(train_images) // 16,\n",
    "                    validation_data=(val_images, val_masks))"
   ]
  },
  {
   "cell_type": "code",
   "execution_count": 10,
   "metadata": {},
   "outputs": [
    {
     "name": "stdout",
     "output_type": "stream",
     "text": [
      "2/2 [==============================] - 3s 854ms/step - loss: 0.9882 - accuracy: 0.9993 - iou_metric: 0.0091 - dice_coefficient: 0.0181\n",
      "Validation Loss: 0.99\n",
      "Validation Accuracy: 99.93%\n",
      "Validation IoU: 0.91%\n",
      "Validation Dice: 1.81%\n"
     ]
    }
   ],
   "source": [
    "scores = model.evaluate(val_images, val_masks)\n",
    "print(\"Validation Loss: %.2f\" % scores[0])\n",
    "print(\"Validation Accuracy: %.2f%%\" % (scores[1] * 100))\n",
    "print(\"Validation IoU: %.2f%%\" % (scores[2] * 100))\n",
    "print(\"Validation Dice: %.2f%%\" % (scores[3] * 100))"
   ]
  },
  {
   "cell_type": "code",
   "execution_count": 11,
   "metadata": {},
   "outputs": [
    {
     "name": "stdout",
     "output_type": "stream",
     "text": [
      "5/5 [==============================] - 4s 811ms/step - loss: 0.9896 - accuracy: 0.9993 - iou_metric: 0.0076 - dice_coefficient: 0.0151\n",
      "Test Loss: 0.99\n",
      "Test Accuracy: 99.93%\n",
      "Test IoU: 0.76%\n",
      "Test Dice: 1.51%\n"
     ]
    }
   ],
   "source": [
    "scores = model.evaluate(test_images, test_masks)\n",
    "print(\"Test Loss: %.2f\" % scores[0])\n",
    "print(\"Test Accuracy: %.2f%%\" % (scores[1] * 100))\n",
    "print(\"Test IoU: %.2f%%\" % (scores[2] * 100))\n",
    "print(\"Test Dice: %.2f%%\" % (scores[3] * 100))"
   ]
  },
  {
   "cell_type": "markdown",
   "metadata": {},
   "source": [
    "## Visualise"
   ]
  },
  {
   "cell_type": "code",
   "execution_count": 12,
   "metadata": {},
   "outputs": [
    {
     "name": "stderr",
     "output_type": "stream",
     "text": [
      "2024-11-12 12:59:07.726218: I tensorflow/core/grappler/optimizers/custom_graph_optimizer_registry.cc:113] Plugin optimizer for device_type GPU is enabled.\n"
     ]
    },
    {
     "name": "stdout",
     "output_type": "stream",
     "text": [
      "1/1 [==============================] - 0s 475ms/step\n"
     ]
    },
    {
     "data": {
      "image/png": "[encoded data removed]",
      "text/plain": [
       "<Figure size 800x400 with 4 Axes>"
      ]
     },
     "metadata": {},
     "output_type": "display_data"
    }
   ],
   "source": [
    "import matplotlib.pyplot as plt\n",
    "\n",
    "image = all_images[123]  # Original test image\n",
    "true_mask = all_masks[123]  # Ground truth mask\n",
    "\n",
    "pred_mask_unet = model.predict(np.expand_dims(image, axis=0))  # Predict mask\n",
    "pred_mask_unet_binary = (pred_mask_unet > 0.1).astype(int)  # Convert to binary\n",
    "\n",
    "# pred_mask_resnet = model_resnet.predict(np.expand_dims(image, axis=0))  # Predict mask\n",
    "# pred_mask_resnet_binary = (pred_mask_resnet > 0.5).astype(int)  # Convert to binary\n",
    "\n",
    "# Function to visualize image, ground truth mask, and predicted mask\n",
    "plt.figure(figsize=(8, 4))\n",
    "\n",
    "# Original image\n",
    "plt.subplot(2, 2, 1)\n",
    "plt.imshow(image)\n",
    "plt.title(\"Original Image\")\n",
    "plt.axis('off')\n",
    "\n",
    "# Ground truth mask\n",
    "plt.subplot(2, 2, 2)\n",
    "plt.imshow(true_mask.squeeze(), cmap='gray')\n",
    "plt.title(\"Ground Truth Mask\")\n",
    "plt.axis('off')\n",
    "\n",
    "# Predicted mask\n",
    "plt.subplot(2, 2, 3)\n",
    "plt.imshow(pred_mask_unet.squeeze(), cmap='gray')\n",
    "plt.title(\"Predicted Mask UNet\")\n",
    "plt.axis('off')\n",
    "\n",
    "# Predicted mask\n",
    "plt.subplot(2, 2, 4)\n",
    "plt.imshow(pred_mask_unet_binary.squeeze(), cmap='gray')\n",
    "plt.title(\"Predicted Mask Threshold\")\n",
    "plt.axis('off')\n",
    "\n",
    "plt.show()"
   ]
  },
  {
   "cell_type": "code",
   "execution_count": 13,
   "metadata": {},
   "outputs": [],
   "source": [
    "# Save the model\n",
    "model_json = model.to_json()\n",
    "with open('../models_segmentation/MA.json', 'w') as json_file:\n",
    "    json_file.write(model_json)\n",
    "\n",
    "# Saving the model and weights\n",
    "model.save_weights('../models_segmentation/MA.weights.h5')"
   ]
  },
  {
   "cell_type": "code",
   "execution_count": null,
   "metadata": {},
   "outputs": [],
   "source": []
  }
 ],
 "metadata": {
  "kernelspec": {
   "display_name": "tensorflow",
   "language": "python",
   "name": "python3"
  },
  "language_info": {
   "codemirror_mode": {
    "name": "ipython",
    "version": 3
   },
   "file_extension": ".py",
   "mimetype": "text/x-python",
   "name": "python",
   "nbconvert_exporter": "python",
   "pygments_lexer": "ipython3",
   "version": "3.8.19"
  }
 },
 "nbformat": 4,
 "nbformat_minor": 2
}

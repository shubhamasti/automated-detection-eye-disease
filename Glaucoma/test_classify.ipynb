{
 "cells": [
  {
   "cell_type": "code",
   "execution_count": 1,
   "metadata": {},
   "outputs": [],
   "source": [
    "import os\n",
    "import pandas as pd\n",
    "import numpy as np\n",
    "import cv2\n",
    "import tensorflow as tf\n",
    "\n",
    "from sklearn.utils import shuffle, resample\n",
    "from tqdm import tqdm\n",
    "\n",
    "from keras.utils import load_img, img_to_array, to_categorical\n",
    "from keras.models import model_from_json, Model\n",
    "from keras.optimizers import SGD, RMSprop, Adam\n",
    "\n",
    "from sklearn.metrics import accuracy_score, precision_score, recall_score, confusion_matrix, classification_report, cohen_kappa_score\n",
    "import seaborn as sns\n",
    "import matplotlib.pyplot as plt"
   ]
  },
  {
   "cell_type": "markdown",
   "metadata": {},
   "source": [
    "## REFUGE"
   ]
  },
  {
   "cell_type": "code",
   "execution_count": null,
   "metadata": {},
   "outputs": [],
   "source": [
    "# Load the CSV file\n",
    "df_train = pd.read_csv('path/to/REFUGE/train/output.csv')\n",
    "dataset_path_train = 'path/to/REFUGE/train/Images'\n",
    "\n",
    "df_val = pd.read_csv('path/to/REFUGE/val/output.csv')\n",
    "dataset_path_val = 'path/to/REFUGE/val/Images'\n",
    "\n",
    "# Define constants\n",
    "IMAGE_SIZE = (256, 256)  # Example size, adjust to your models\n",
    "NUM_CLASSES = 2  # Grading levels 0-5"
   ]
  },
  {
   "cell_type": "code",
   "execution_count": null,
   "metadata": {},
   "outputs": [],
   "source": [
    "df_train['Label'].value_counts()"
   ]
  },
  {
   "cell_type": "code",
   "execution_count": null,
   "metadata": {},
   "outputs": [],
   "source": [
    "df_val['Label'].value_counts()"
   ]
  },
  {
   "cell_type": "code",
   "execution_count": null,
   "metadata": {},
   "outputs": [],
   "source": [
    "# ODOC\n",
    "with open('models_segmentation/ODOC.json', 'r') as json_file:\n",
    "    model_json = json_file.read()\n",
    "model_OCOD = model_from_json(model_json)\n",
    "model_OCOD.load_weights('models_segmentation/ODOC.weights.h5')\n",
    "model_OCOD.compile(optimizer='adam', loss='binary_crossentropy', metrics=['accuracy'])"
   ]
  },
  {
   "cell_type": "markdown",
   "metadata": {},
   "source": [
    "## Load model"
   ]
  },
  {
   "cell_type": "code",
   "execution_count": null,
   "metadata": {},
   "outputs": [],
   "source": [
    "with open('models_features/CNN_ODOC.json', 'r') as json_file:\n",
    "    model_json = json_file.read()\n",
    "model = model_from_json(model_json)\n",
    "model.load_weights('models_features/CNN_ODOC.weights.h5')\n",
    "model.compile(optimizer='adam', loss='categorical_crossentropy', metrics=['accuracy'])"
   ]
  },
  {
   "cell_type": "markdown",
   "metadata": {},
   "source": [
    "## Load"
   ]
  },
  {
   "cell_type": "code",
   "execution_count": null,
   "metadata": {},
   "outputs": [],
   "source": [
    "# Define function to preprocess images\n",
    "def preprocess_image(image_path):\n",
    "    img = load_img(image_path, target_size=(256, 256))\n",
    "    img = img_to_array(img)\n",
    "    img = img / 255.0\n",
    "    return img\n",
    "\n",
    "def generate_feature_maps(image_path):\n",
    "    # Apply the specific preprocessing method for each model\n",
    "    img = preprocess_image(image_path)\n",
    "    img = np.expand_dims(img, axis=0)\n",
    "    mask = model_OCOD.predict(img, verbose=False)  # Predict mask    \n",
    "    mask_discrete = np.zeros_like(mask)  # Initialize with zeros\n",
    "    mask_discrete[(mask >= 0.25) & (mask < 0.75)] = 0.5  # Set to 0.5 where within range\n",
    "    mask_discrete[mask >= 0.75] = 1\n",
    "    # Combine masks into a single feature map\n",
    "    combined = np.transpose(mask_discrete, (1, 2, 0, 3))\n",
    "    combined = np.squeeze(combined)\n",
    "    \n",
    "    return combined"
   ]
  },
  {
   "cell_type": "code",
   "execution_count": null,
   "metadata": {},
   "outputs": [],
   "source": [
    "# Prepare dataset\n",
    "X = []\n",
    "y = []\n",
    "\n",
    "for index, row in tqdm(df_train.iterrows(), total=len(df_train), desc=\"Processing rows\"):\n",
    "    image_path = row['ImgName']\n",
    "    label = row['Label']\n",
    "    \n",
    "    image_path = os.path.join(dataset_path_train, image_path)\n",
    "    x = generate_feature_maps(image_path)\n",
    "    X.append(x)\n",
    "    y.append(label)\n",
    "    \n",
    "for index, row in tqdm(df_val.iterrows(), total=len(df_val), desc=\"Processing rows\"):\n",
    "    image_path = row['ImgName']\n",
    "    label = row['Label']\n",
    "    \n",
    "    image_path = os.path.join(dataset_path_val, image_path)\n",
    "    x = generate_feature_maps(image_path)\n",
    "    X.append(x)\n",
    "    y.append(label)\n",
    "    \n",
    "    \n",
    "X_features = np.array(X)\n",
    "y_labels = np.array(y)\n",
    "\n",
    "X_features = np.array(X_features)  # Shape: (num_samples, H, W, 4)\n",
    "y_labels = tf.keras.utils.to_categorical(y_labels, NUM_CLASSES)"
   ]
  },
  {
   "cell_type": "code",
   "execution_count": null,
   "metadata": {},
   "outputs": [],
   "source": [
    "X_features.shape, y_labels.shape"
   ]
  },
  {
   "cell_type": "code",
   "execution_count": null,
   "metadata": {},
   "outputs": [],
   "source": [
    "predictions = model.predict(X_features)\n",
    "y_pred = np.argmax(predictions, axis=1)  # Multiclass output\n",
    "y_true = np.argmax(y_labels, axis=1)\n",
    "\n",
    "conf_matrix = confusion_matrix(y_true, y_pred)\n",
    "\n",
    "# Visualize confusion matrix\n",
    "plt.figure(figsize=(8, 6))\n",
    "sns.heatmap(conf_matrix, annot=True, fmt='d', cmap='Blues', xticklabels=range(2), yticklabels=range(2))\n",
    "plt.xlabel(\"Predicted\")\n",
    "plt.ylabel(\"True\")\n",
    "plt.title(\"Confusion Matrix\")\n",
    "plt.show()"
   ]
  },
  {
   "cell_type": "code",
   "execution_count": null,
   "metadata": {},
   "outputs": [],
   "source": [
    "# Calculate metrics\n",
    "accuracy = accuracy_score(y_true, y_pred)\n",
    "precision = precision_score(y_true, y_pred, average='weighted')\n",
    "recall = recall_score(y_true, y_pred, average='weighted')\n",
    "classification_rep = classification_report(y_true, y_pred, target_names=[f'Grade {i}' for i in range(2)])\n",
    "\n",
    "print(f\"Accuracy: {accuracy}\")\n",
    "print(f\"Precision: {precision}\")\n",
    "print(f\"Recall: {recall}\")\n",
    "print(\"\\nClassification Report:\")\n",
    "print(classification_rep)"
   ]
  },
  {
   "cell_type": "markdown",
   "metadata": {},
   "source": [
    "# ORIGA"
   ]
  },
  {
   "cell_type": "code",
   "execution_count": 2,
   "metadata": {},
   "outputs": [],
   "source": [
    "# Load the CSV file\n",
    "df = pd.read_csv('path/to/ORIGA/OrigaList.csv')\n",
    "dataset_path = 'path/to/ORIGA/Images'\n",
    "\n",
    "# Define constants\n",
    "IMAGE_SIZE = (256, 256)  # Example size, adjust to your models\n",
    "NUM_CLASSES = 2  # Grading levels 0-5"
   ]
  },
  {
   "cell_type": "code",
   "execution_count": 3,
   "metadata": {},
   "outputs": [
    {
     "data": {
      "text/plain": [
       "Glaucoma\n",
       "0    482\n",
       "1    168\n",
       "Name: count, dtype: int64"
      ]
     },
     "execution_count": 3,
     "metadata": {},
     "output_type": "execute_result"
    }
   ],
   "source": [
    "df['Glaucoma'].value_counts()"
   ]
  },
  {
   "cell_type": "markdown",
   "metadata": {},
   "source": [
    "## Load"
   ]
  },
  {
   "cell_type": "code",
   "execution_count": 6,
   "metadata": {},
   "outputs": [],
   "source": [
    "# Define function to preprocess images\n",
    "def preprocess_image(image_path):\n",
    "    img = load_img(image_path, target_size=(256, 256))\n",
    "    img = img_to_array(img)\n",
    "    img = img / 255.0\n",
    "    return img\n",
    "\n",
    "def generate_feature_maps(image_path):\n",
    "    # Apply the specific preprocessing method for each model\n",
    "    img = preprocess_image(image_path)\n",
    "    img = np.expand_dims(img, axis=0)\n",
    "    mask = model_OCOD.predict(img, verbose=False)  # Predict mask    \n",
    "    mask_discrete = np.zeros_like(mask)  # Initialize with zeros\n",
    "    mask_discrete[(mask >= 0.25) & (mask < 0.75)] = 0.5  # Set to 0.5 where within range\n",
    "    mask_discrete[mask >= 0.75] = 1\n",
    "    # Combine masks into a single feature map\n",
    "    combined = np.transpose(mask_discrete, (1, 2, 0, 3))\n",
    "    combined = np.squeeze(combined)\n",
    "    \n",
    "    return combined"
   ]
  },
  {
   "cell_type": "code",
   "execution_count": 7,
   "metadata": {},
   "outputs": [
    {
     "name": "stderr",
     "output_type": "stream",
     "text": [
      "Processing rows:   0%|          | 0/650 [00:00<?, ?it/s]2024-12-11 23:16:35.149412: W tensorflow/core/platform/profile_utils/cpu_utils.cc:128] Failed to get CPU frequency: 0 Hz\n",
      "2024-12-11 23:16:35.207439: I tensorflow/core/grappler/optimizers/custom_graph_optimizer_registry.cc:113] Plugin optimizer for device_type GPU is enabled.\n",
      "Processing rows: 100%|██████████| 650/650 [00:42<00:00, 15.34it/s]\n"
     ]
    }
   ],
   "source": [
    "# Prepare dataset\n",
    "X = []\n",
    "y = []\n",
    "\n",
    "for index, row in tqdm(df.iterrows(), total=len(df), desc=\"Processing rows\"):\n",
    "    image_path = row['Filename']\n",
    "    label = row['Glaucoma']\n",
    "    \n",
    "    image_path = os.path.join(dataset_path, image_path)\n",
    "    x = generate_feature_maps(image_path)\n",
    "    X.append(x)\n",
    "    y.append(label)\n",
    "\n",
    "X_features = np.array(X)\n",
    "y_labels = np.array(y)\n",
    "\n",
    "X_features = np.array(X_features)  # Shape: (num_samples, H, W, 4)\n",
    "y_labels = tf.keras.utils.to_categorical(y_labels, NUM_CLASSES)"
   ]
  },
  {
   "cell_type": "code",
   "execution_count": 8,
   "metadata": {},
   "outputs": [
    {
     "data": {
      "text/plain": [
       "((650, 256, 256), (650, 2))"
      ]
     },
     "execution_count": 8,
     "metadata": {},
     "output_type": "execute_result"
    }
   ],
   "source": [
    "X_features.shape, y_labels.shape"
   ]
  },
  {
   "cell_type": "code",
   "execution_count": 9,
   "metadata": {},
   "outputs": [
    {
     "name": "stderr",
     "output_type": "stream",
     "text": [
      "2024-12-11 23:17:17.749954: I tensorflow/core/grappler/optimizers/custom_graph_optimizer_registry.cc:113] Plugin optimizer for device_type GPU is enabled.\n"
     ]
    },
    {
     "name": "stdout",
     "output_type": "stream",
     "text": [
      "21/21 [==============================] - 1s 42ms/step\n"
     ]
    },
    {
     "data": {
      "image/png": "[encoded data removed]",
      "text/plain": [
       "<Figure size 800x600 with 2 Axes>"
      ]
     },
     "metadata": {},
     "output_type": "display_data"
    }
   ],
   "source": [
    "predictions = model.predict(X_features)\n",
    "y_pred = np.argmax(predictions, axis=1)  # Multiclass output\n",
    "y_true = np.argmax(y_labels, axis=1)\n",
    "\n",
    "conf_matrix = confusion_matrix(y_true, y_pred)\n",
    "\n",
    "# Visualize confusion matrix\n",
    "plt.figure(figsize=(8, 6))\n",
    "sns.heatmap(conf_matrix, annot=True, fmt='d', cmap='Blues', xticklabels=range(2), yticklabels=range(2))\n",
    "plt.xlabel(\"Predicted\")\n",
    "plt.ylabel(\"True\")\n",
    "plt.title(\"Confusion Matrix\")\n",
    "plt.show()"
   ]
  },
  {
   "cell_type": "code",
   "execution_count": 10,
   "metadata": {},
   "outputs": [
    {
     "name": "stdout",
     "output_type": "stream",
     "text": [
      "Accuracy: 0.8138461538461539\n",
      "Precision: 0.8030016745832239\n",
      "Recall: 0.8138461538461539\n",
      "\n",
      "Classification Report:\n",
      "              precision    recall  f1-score   support\n",
      "\n",
      "     Grade 0       0.84      0.93      0.88       482\n",
      "     Grade 1       0.71      0.48      0.57       168\n",
      "\n",
      "    accuracy                           0.81       650\n",
      "   macro avg       0.77      0.70      0.73       650\n",
      "weighted avg       0.80      0.81      0.80       650\n",
      "\n"
     ]
    }
   ],
   "source": [
    "# Calculate metrics\n",
    "accuracy = accuracy_score(y_true, y_pred)\n",
    "precision = precision_score(y_true, y_pred, average='weighted')\n",
    "recall = recall_score(y_true, y_pred, average='weighted')\n",
    "classification_rep = classification_report(y_true, y_pred, target_names=[f'Grade {i}' for i in range(2)])\n",
    "\n",
    "print(f\"Accuracy: {accuracy}\")\n",
    "print(f\"Precision: {precision}\")\n",
    "print(f\"Recall: {recall}\")\n",
    "print(\"\\nClassification Report:\")\n",
    "print(classification_rep)"
   ]
  },
  {
   "cell_type": "code",
   "execution_count": null,
   "metadata": {},
   "outputs": [],
   "source": []
  }
 ],
 "metadata": {
  "kernelspec": {
   "display_name": "tensorflow",
   "language": "python",
   "name": "python3"
  },
  "language_info": {
   "codemirror_mode": {
    "name": "ipython",
    "version": 3
   },
   "file_extension": ".py",
   "mimetype": "text/x-python",
   "name": "python",
   "nbconvert_exporter": "python",
   "pygments_lexer": "ipython3",
   "version": "3.8.19"
  }
 },
 "nbformat": 4,
 "nbformat_minor": 2
}
